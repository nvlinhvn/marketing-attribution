{
 "cells": [
  {
   "cell_type": "markdown",
   "id": "f847b9da",
   "metadata": {},
   "source": [
    "## Overview\n",
    "The business has been investing in four different display advertising campaigns. You have been asked to evaluate how effective\n",
    "each advertising campaign is in generating sales. Please see below the explanation of the data and the business questions.\n",
    "\n",
    "The data on the left include information on 10000 consumers who clicked on at least one of the display ads from campaigns\n",
    "A, B, C, or D. Purchase is indicated by the \"Conversion\" variable (i.e., equals 1 if there is purchase and 0 otherwise). The \"Value\" column indicates the revenue in dollars earned from each purchase. The cost per click is $7, $5, $4, and $2 for campaign A, B, C, and D, respectively. The order of clicks is as indicated in the data.\n",
    "\n",
    "You are asked to build a statistical model (so not a rule based attribution model such as last click attribution) and answer:\n",
    "\n",
    "Questions\n",
    "1. Which campaign is the most successful in terms of unit sales contributed?\n",
    "\n",
    "2. What is the return on investment for each campaign?\n",
    "\n",
    "3. How would you optimize the spend of a given budget of $1 million across all four campaigns?"
   ]
  },
  {
   "cell_type": "markdown",
   "id": "0531b437",
   "metadata": {},
   "source": [
    "#### Assume the cost of campaign is only charged when there is a conversion\n",
    "#### The idea is to construct transition probability matrix between campaigns, to evaluate each campaign effect on conversion units"
   ]
  },
  {
   "cell_type": "code",
   "execution_count": 2,
   "id": "821a0741",
   "metadata": {},
   "outputs": [],
   "source": [
    "import pandas as pd\n",
    "import seaborn as sns\n",
    "import numpy as np\n",
    "import matplotlib.pyplot as plt\n",
    "from pulp import *\n",
    "from collections import defaultdict\n",
    "\n",
    "from pprint import pprint\n",
    "\n",
    "import warnings\n",
    "warnings.filterwarnings('ignore')"
   ]
  },
  {
   "cell_type": "code",
   "execution_count": 16,
   "id": "e421065d",
   "metadata": {},
   "outputs": [
    {
     "data": {
      "text/html": [
       "<div>\n",
       "<style scoped>\n",
       "    .dataframe tbody tr th:only-of-type {\n",
       "        vertical-align: middle;\n",
       "    }\n",
       "\n",
       "    .dataframe tbody tr th {\n",
       "        vertical-align: top;\n",
       "    }\n",
       "\n",
       "    .dataframe thead th {\n",
       "        text-align: right;\n",
       "    }\n",
       "</style>\n",
       "<table border=\"1\" class=\"dataframe\">\n",
       "  <thead>\n",
       "    <tr style=\"text-align: right;\">\n",
       "      <th></th>\n",
       "      <th>user</th>\n",
       "      <th>click_1</th>\n",
       "      <th>click_2</th>\n",
       "      <th>click_3</th>\n",
       "      <th>click_4</th>\n",
       "      <th>click_5</th>\n",
       "      <th>conversion</th>\n",
       "      <th>value</th>\n",
       "    </tr>\n",
       "  </thead>\n",
       "  <tbody>\n",
       "    <tr>\n",
       "      <th>0</th>\n",
       "      <td>1</td>\n",
       "      <td>d</td>\n",
       "      <td>d</td>\n",
       "      <td>a</td>\n",
       "      <td>b</td>\n",
       "      <td>NaN</td>\n",
       "      <td>0</td>\n",
       "      <td>0</td>\n",
       "    </tr>\n",
       "    <tr>\n",
       "      <th>1</th>\n",
       "      <td>2</td>\n",
       "      <td>c</td>\n",
       "      <td>NaN</td>\n",
       "      <td>NaN</td>\n",
       "      <td>NaN</td>\n",
       "      <td>NaN</td>\n",
       "      <td>0</td>\n",
       "      <td>0</td>\n",
       "    </tr>\n",
       "    <tr>\n",
       "      <th>2</th>\n",
       "      <td>3</td>\n",
       "      <td>b</td>\n",
       "      <td>d</td>\n",
       "      <td>a</td>\n",
       "      <td>b</td>\n",
       "      <td>c</td>\n",
       "      <td>1</td>\n",
       "      <td>44</td>\n",
       "    </tr>\n",
       "    <tr>\n",
       "      <th>3</th>\n",
       "      <td>4</td>\n",
       "      <td>b</td>\n",
       "      <td>a</td>\n",
       "      <td>a</td>\n",
       "      <td>NaN</td>\n",
       "      <td>NaN</td>\n",
       "      <td>0</td>\n",
       "      <td>0</td>\n",
       "    </tr>\n",
       "    <tr>\n",
       "      <th>4</th>\n",
       "      <td>5</td>\n",
       "      <td>d</td>\n",
       "      <td>b</td>\n",
       "      <td>d</td>\n",
       "      <td>NaN</td>\n",
       "      <td>NaN</td>\n",
       "      <td>0</td>\n",
       "      <td>0</td>\n",
       "    </tr>\n",
       "  </tbody>\n",
       "</table>\n",
       "</div>"
      ],
      "text/plain": [
       "   user click_1 click_2 click_3 click_4 click_5  conversion  value\n",
       "0     1       d       d       a       b     NaN           0      0\n",
       "1     2       c     NaN     NaN     NaN     NaN           0      0\n",
       "2     3       b       d       a       b       c           1     44\n",
       "3     4       b       a       a     NaN     NaN           0      0\n",
       "4     5       d       b       d     NaN     NaN           0      0"
      ]
     },
     "metadata": {},
     "output_type": "display_data"
    },
    {
     "name": "stdout",
     "output_type": "stream",
     "text": [
      "removal_effects\n",
      "{('a',): -0.010831787213580885,\n",
      " ('b',): -0.015342039228628826,\n",
      " ('c',): -0.014694348312304817,\n",
      " ('d',): -0.017900802875224858}\n",
      "Removal effects for individual campaigns: {('a',): -0.010831787213580885, ('b',): -0.015342039228628826, ('c',): -0.014694348312304817, ('d',): -0.017900802875224858}\n",
      "Removal effects for campaign combinations: {}\n",
      "ROI: {'a': -0.6855895345577628, 'b': -0.396536129266172, 'c': -0.2601074168630421, 'd': 0.8144123888477783}\n",
      "Optimized budget allocation: {'a': 1, 'b': 1, 'c': 1, 'd': 1}\n",
      "Total conversions with optimized allocation: -0.058768977629739386\n",
      "Total cost with optimized allocation: 18.0\n",
      "Total revenue with optimized allocation: 87934.0\n"
     ]
    }
   ],
   "source": [
    "df = pd.read_csv(\"./data/user_click.csv\")\n",
    "columns = [\"user\", \"click_1\", \"click_2\", \"click_3\", \"click_4\", \"click_5\", \"conversion\", \"value\"]\n",
    "df = df[columns]\n",
    "display(df.head(5))\n",
    "# Fill missing values with \"END\" placeholder\n",
    "df[[\"click_1\", \"click_2\", \"click_3\", \"click_4\", \"click_5\"]] = df[[\"click_1\", \"click_2\", \"click_3\", \"click_4\", \"click_5\"]].fillna(\"END\")\n",
    "\n",
    "# Create separate dataframes for converted and non-converted users\n",
    "df_converted = df[df['conversion'] == 1]\n",
    "df_non_converted = df[df['conversion'] == 0]\n",
    "\n",
    "def calculate_transition_matrix(df):\n",
    "    transition_counts = defaultdict(lambda: defaultdict(int))\n",
    "    total_counts = defaultdict(int)\n",
    "\n",
    "    for _, row in df.iterrows():\n",
    "        clicks = row[['click_1', 'click_2', 'click_3', 'click_4', 'click_5']].tolist()\n",
    "        if row['conversion'] == 1:\n",
    "            clicks.append('conv')\n",
    "        else:\n",
    "            clicks.append('END')\n",
    "\n",
    "        for i in range(len(clicks) - 1):\n",
    "            current_click = clicks[i]\n",
    "            next_click = clicks[i + 1]\n",
    "            transition_counts[current_click][next_click] += 1\n",
    "            total_counts[current_click] += 1\n",
    "\n",
    "    transition_matrix = {k: {kk: vv / total_counts[k] for kk, vv in v.items()} for k, v in transition_counts.items()}\n",
    "    return transition_matrix\n",
    "\n",
    "# Calculate transition matrices for converted and non-converted users\n",
    "transition_matrix_converted = calculate_transition_matrix(df_converted)\n",
    "transition_matrix_non_converted = calculate_transition_matrix(df_non_converted)\n",
    "\n",
    "# Prepare data\n",
    "df['path'] = df.apply(lambda x: ['start'] + [x['click_'+str(i)] for i in range(1, 6) \n",
    "                                             if str(x['click_'+str(i)]) != 'END'] + ['conv' if x['conversion'] == 1 else 'END']\n",
    "                                             ,axis=1)\n",
    "\n",
    "# Calculate transition matrix\n",
    "transitions = defaultdict(int)\n",
    "for path in df['path']:\n",
    "    for i in range(len(path) - 1):\n",
    "        transitions[(path[i], path[i+1])] += 1\n",
    "\n",
    "total = sum(transitions.values())\n",
    "for key in transitions:\n",
    "    transitions[key] /= total\n",
    "\n",
    "# Calculate total conversions and transitions from all campaigns\n",
    "total_conversions = sum([transitions[(campaign, 'conv')] for campaign in ['a', 'b', 'c', 'd']])\n",
    "total_transitions = sum([sum([transitions[(campaign, next_state)] for next_state in ['a', 'b', 'c', 'd', 'conv', 'END']]) for campaign in ['a', 'b', 'c', 'd']])\n",
    "\n",
    "# Calculate conversion probability with all campaigns\n",
    "prob_all = total_conversions / total_transitions\n",
    "\n",
    "# Calculate removal effects for individual campaigns and their combinations\n",
    "removal_effects = {}\n",
    "campaign_combinations = [['a'], ['b'], ['c'], ['d']]\n",
    "                        #  , ['a', 'b'], ['a', 'c'], ['a', 'd'], ['b', 'c'], ['b', 'd'], ['c', 'd'], ['a', 'b', 'c'], ['a', 'b', 'd'], ['a', 'c', 'd'], ['b', 'c', 'd'], ['a', 'b', 'c', 'd']]\n",
    "\n",
    "for combination in campaign_combinations:\n",
    "    transitions_removed = transitions.copy()\n",
    "    to_remove = [key for key in transitions if any(campaign in key for campaign in combination)]\n",
    "    \n",
    "    for key in to_remove:\n",
    "        del transitions_removed[key]\n",
    "    \n",
    "    total_conversions_removed = sum([transitions_removed[(other_campaign, 'conv')] for other_campaign in ['a', 'b', 'c', 'd'] if (other_campaign, 'conv') in transitions_removed])\n",
    "    total_transitions_removed = sum([sum([transitions_removed[(other_campaign, next_state)] for next_state in ['a', 'b', 'c', 'd', 'conv', 'END'] if (other_campaign, next_state) in transitions_removed]) for other_campaign in ['a', 'b', 'c', 'd']])\n",
    "    \n",
    "    prob_removed = total_conversions_removed / total_transitions_removed if total_transitions_removed != 0 else 0\n",
    "    \n",
    "    removal_effects[tuple(combination)] = prob_all - prob_removed\n",
    "print(\"removal_effects\")\n",
    "pprint(removal_effects)\n",
    "# Calculate ROI\n",
    "cpc = {'a': 7, 'b': 5, 'c': 4, 'd': 2}\n",
    "roi = {}\n",
    "revenue = df[df.value > 0].value.sum()\n",
    "total_click_by_campaign = {'a': 0, 'b': 0, 'c': 0, 'd': 0}\n",
    "for i in range(1, 6):\n",
    "    click_dict = df[f\"click_{i}\"].value_counts().to_dict()\n",
    "    total_click_by_campaign['a'] += click_dict.get('a', 0)\n",
    "    total_click_by_campaign['b'] += click_dict.get('b', 0)\n",
    "    total_click_by_campaign['c'] += click_dict.get('c', 0)\n",
    "    total_click_by_campaign['d'] += click_dict.get('d', 0)\n",
    "\n",
    "for campaign in ['a', 'b', 'c', 'd']:\n",
    "    revenue_contribution = revenue * removal_effects[(campaign,)] / sum(removal_effects.values())\n",
    "    cost = cpc[campaign] * total_click_by_campaign[campaign]\n",
    "    roi[campaign] = (revenue_contribution - cost) / cost\n",
    "\n",
    "# Optimization\n",
    "budget = 1000000  # 1 million dollars\n",
    "campaigns = ['a', 'b', 'c', 'd']\n",
    "costs = [cpc[campaign] for campaign in campaigns]\n",
    "conversions = [removal_effects[(campaign,)] for campaign in campaigns]\n",
    "revenue_contributions = [revenue * removal_effects[(campaign,)] / sum(removal_effects.values()) for campaign in campaigns]\n",
    "\n",
    "# Define the optimization problem\n",
    "# Objective function: Maximize total conversions\n",
    "# Constraints:\n",
    "#   - Total cost should be within the budget\n",
    "#   - Allocations should be non-negative\n",
    "#   - Revenue contribution of each campaign should be proportional to its removal effect\n",
    "\n",
    "# Set up the linear programming problem\n",
    "objective = [-conversion for conversion in conversions]  # Negative sign for maximization\n",
    "\n",
    "lhs_ineq = [costs]\n",
    "rhs_ineq = [budget]\n",
    "\n",
    "lhs_eq = []\n",
    "rhs_eq = []\n",
    "for i in range(len(campaigns)):\n",
    "    lhs_eq.append([0] * len(campaigns))\n",
    "    lhs_eq[i][i] = revenue_contributions[i]\n",
    "    rhs_eq.append(revenue_contributions[i])\n",
    "\n",
    "bnd = [(0, float('inf')) for _ in range(len(campaigns))]  # Non-negative allocations\n",
    "\n",
    "# Solve the optimization problem\n",
    "opt_result = linprog(c=objective, A_ub=lhs_ineq, b_ub=rhs_ineq, A_eq=lhs_eq, b_eq=rhs_eq, bounds=bnd, method='simplex')\n",
    "\n",
    "# Retrieve the optimal allocation\n",
    "optimized_allocation = {campaigns[i]: round(opt_result.x[i]) for i in range(len(campaigns))}\n",
    "\n",
    "# Calculate the total conversions, cost, and revenue based on the optimal allocation\n",
    "total_conversions_optimized = -opt_result.fun\n",
    "total_cost_optimized = sum([costs[i] * opt_result.x[i] for i in range(len(campaigns))])\n",
    "total_revenue_optimized = sum([revenue_contributions[i] * opt_result.x[i] for i in range(len(campaigns))])\n",
    "\n",
    "# Print results\n",
    "print('Removal effects for individual campaigns:', {k: v for k, v in removal_effects.items() if len(k) == 1})\n",
    "print('Removal effects for campaign combinations:', {k: v for k, v in removal_effects.items() if len(k) > 1})\n",
    "print('ROI:', roi)\n",
    "print('Optimized budget allocation:', optimized_allocation)\n",
    "print(f'Total conversions with optimized allocation: {total_conversions_optimized}')\n",
    "print(f'Total cost with optimized allocation: {total_cost_optimized}')\n",
    "print(f'Total revenue with optimized allocation: {total_revenue_optimized}')"
   ]
  },
  {
   "cell_type": "code",
   "execution_count": 7,
   "id": "6d0dc9e3",
   "metadata": {},
   "outputs": [
    {
     "data": {
      "text/plain": [
       "0.3045961253232072"
      ]
     },
     "execution_count": 7,
     "metadata": {},
     "output_type": "execute_result"
    }
   ],
   "source": [
    "removal_effects[(campaign,)] / sum(removal_effects.values())"
   ]
  },
  {
   "cell_type": "code",
   "execution_count": 14,
   "id": "d9b10c2b",
   "metadata": {},
   "outputs": [
    {
     "data": {
      "text/plain": [
       " message: Optimization terminated successfully.\n",
       " success: True\n",
       "  status: 0\n",
       "     fun: 0.0\n",
       "       x: [ 0.000e+00  0.000e+00  0.000e+00  0.000e+00]\n",
       "     nit: 2"
      ]
     },
     "execution_count": 14,
     "metadata": {},
     "output_type": "execute_result"
    }
   ],
   "source": [
    "opt_result"
   ]
  },
  {
   "cell_type": "code",
   "execution_count": 11,
   "id": "79956e09",
   "metadata": {},
   "outputs": [
    {
     "data": {
      "text/plain": [
       "[-0.010831787213580885,\n",
       " -0.015342039228628826,\n",
       " -0.014694348312304817,\n",
       " -0.017900802875224858]"
      ]
     },
     "execution_count": 11,
     "metadata": {},
     "output_type": "execute_result"
    }
   ],
   "source": [
    "conversions"
   ]
  },
  {
   "cell_type": "code",
   "execution_count": 61,
   "id": "2babda8f",
   "metadata": {},
   "outputs": [
    {
     "name": "stdout",
     "output_type": "stream",
     "text": [
      "0.1843113093071672\n",
      "0.26105676578700865\n",
      "0.25003579958261696\n",
      "0.30459612532320723\n",
      "Removal effects: {'a': -0.010831787213580885, 'b': -0.015342039228628826, 'c': -0.014694348312304817, 'd': -0.017900802875224858}\n",
      "ROI: {'a': -0.6855895345577628, 'b': -0.396536129266172, 'c': -0.2601074168630421, 'd': 0.8144123888477783}\n"
     ]
    }
   ],
   "source": []
  },
  {
   "cell_type": "code",
   "execution_count": 18,
   "id": "9fbd989a",
   "metadata": {},
   "outputs": [
    {
     "ename": "NameError",
     "evalue": "name 'state' is not defined",
     "output_type": "error",
     "traceback": [
      "\u001b[0;31m---------------------------------------------------------------------------\u001b[0m",
      "\u001b[0;31mNameError\u001b[0m                                 Traceback (most recent call last)",
      "Cell \u001b[0;32mIn[18], line 25\u001b[0m\n\u001b[1;32m     22\u001b[0m     transitions[key] \u001b[38;5;241m/\u001b[39m\u001b[38;5;241m=\u001b[39m total\n\u001b[1;32m     24\u001b[0m \u001b[38;5;66;03m# Create a list of all states\u001b[39;00m\n\u001b[0;32m---> 25\u001b[0m states \u001b[38;5;241m=\u001b[39m \u001b[38;5;28mlist\u001b[39m(\u001b[38;5;28mset\u001b[39m([state \u001b[38;5;28;01mfor\u001b[39;00m (state_from, state_to) \u001b[38;5;129;01min\u001b[39;00m transitions\u001b[38;5;241m.\u001b[39mkeys()] \u001b[38;5;241m+\u001b[39m [\u001b[38;5;124m'\u001b[39m\u001b[38;5;124mconv\u001b[39m\u001b[38;5;124m'\u001b[39m, \u001b[38;5;124m'\u001b[39m\u001b[38;5;124mEND\u001b[39m\u001b[38;5;124m'\u001b[39m]))\n\u001b[1;32m     27\u001b[0m \u001b[38;5;66;03m# Create a transition matrix\u001b[39;00m\n\u001b[1;32m     28\u001b[0m transition_matrix \u001b[38;5;241m=\u001b[39m pd\u001b[38;5;241m.\u001b[39mDataFrame(data\u001b[38;5;241m=\u001b[39mnp\u001b[38;5;241m.\u001b[39mzeros((\u001b[38;5;28mlen\u001b[39m(states), \u001b[38;5;28mlen\u001b[39m(states))), index\u001b[38;5;241m=\u001b[39mstates, columns\u001b[38;5;241m=\u001b[39mstates)\n",
      "Cell \u001b[0;32mIn[18], line 25\u001b[0m, in \u001b[0;36m<listcomp>\u001b[0;34m(.0)\u001b[0m\n\u001b[1;32m     22\u001b[0m     transitions[key] \u001b[38;5;241m/\u001b[39m\u001b[38;5;241m=\u001b[39m total\n\u001b[1;32m     24\u001b[0m \u001b[38;5;66;03m# Create a list of all states\u001b[39;00m\n\u001b[0;32m---> 25\u001b[0m states \u001b[38;5;241m=\u001b[39m \u001b[38;5;28mlist\u001b[39m(\u001b[38;5;28mset\u001b[39m([\u001b[43mstate\u001b[49m \u001b[38;5;28;01mfor\u001b[39;00m (state_from, state_to) \u001b[38;5;129;01min\u001b[39;00m transitions\u001b[38;5;241m.\u001b[39mkeys()] \u001b[38;5;241m+\u001b[39m [\u001b[38;5;124m'\u001b[39m\u001b[38;5;124mconv\u001b[39m\u001b[38;5;124m'\u001b[39m, \u001b[38;5;124m'\u001b[39m\u001b[38;5;124mEND\u001b[39m\u001b[38;5;124m'\u001b[39m]))\n\u001b[1;32m     27\u001b[0m \u001b[38;5;66;03m# Create a transition matrix\u001b[39;00m\n\u001b[1;32m     28\u001b[0m transition_matrix \u001b[38;5;241m=\u001b[39m pd\u001b[38;5;241m.\u001b[39mDataFrame(data\u001b[38;5;241m=\u001b[39mnp\u001b[38;5;241m.\u001b[39mzeros((\u001b[38;5;28mlen\u001b[39m(states), \u001b[38;5;28mlen\u001b[39m(states))), index\u001b[38;5;241m=\u001b[39mstates, columns\u001b[38;5;241m=\u001b[39mstates)\n",
      "\u001b[0;31mNameError\u001b[0m: name 'state' is not defined"
     ]
    }
   ],
   "source": [
    "import pandas as pd\n",
    "import numpy as np\n",
    "from collections import defaultdict\n",
    "from scipy.sparse import csr_matrix\n",
    "from scipy.sparse.csgraph import connected_components\n",
    "from scipy.sparse.csgraph import dijkstra\n",
    "\n",
    "# Load data\n",
    "# data = pd.read_csv('data.csv')\n",
    "\n",
    "# Prepare data\n",
    "df['path'] = df.apply(lambda x: ['start'] + [x['click_'+str(i)] if str(x['click_'+str(i)]) != 'NULL' else 'END' for i in range(1, 6)] + ['conv' if x['conversion'] == 1 else 'NULL'], axis=1)\n",
    "\n",
    "# Calculate transition matrix\n",
    "transitions = defaultdict(int)\n",
    "for path in df['path']:\n",
    "    for i in range(len(path) - 1):\n",
    "        transitions[(path[i], path[i+1])] += 1\n",
    "\n",
    "total = sum(transitions.values())\n",
    "for key in transitions:\n",
    "    transitions[key] /= total\n",
    "\n",
    "# Create a list of all states\n",
    "states = list(set([state for (state_from, state_to) in transitions.keys()] + ['conv', 'END']))\n",
    "\n",
    "# Create a transition matrix\n",
    "transition_matrix = pd.DataFrame(data=np.zeros((len(states), len(states))), index=states, columns=states)\n",
    "for (state_from, state_to), prob in transitions.items():\n",
    "    transition_matrix.at[state_from, state_to] = prob\n",
    "\n",
    "# Calculate removal effects\n",
    "removal_effects = {}\n",
    "for campaign in ['a', 'b', 'c', 'd']:\n",
    "    # Create a transition matrix without campaign\n",
    "    transition_matrix_removed = transition_matrix.drop(index=campaign, columns=campaign).copy()\n",
    "    \n",
    "    # Redistribute transitions of removed campaign\n",
    "    for state in ['a', 'b', 'c', 'd', 'conv', 'END']:\n",
    "        if state != campaign:\n",
    "            transition_matrix_removed.loc[state] += transition_matrix.loc[campaign] * transition_matrix.loc[state].sum()\n",
    "            transition_matrix_removed[state] += transition_matrix[campaign] * transition_matrix[state].sum()\n",
    "    \n",
    "    # Normalize transition matrix\n",
    "    transition_matrix_removed = transition_matrix_removed.div(transition_matrix_removed.sum(axis=1), axis=0)\n",
    "    \n",
    "    # Calculate removal effect\n",
    "    removal_effects[campaign] = transition_matrix.at['start', 'conv'] - transition_matrix_removed.at['start', 'conv']\n",
    "\n",
    "# Print results\n",
    "print('Removal effects:', removal_effects)\n"
   ]
  },
  {
   "cell_type": "code",
   "execution_count": 17,
   "id": "f477a42f",
   "metadata": {},
   "outputs": [
    {
     "data": {
      "text/plain": [
       "dict_keys([('start', 'd'), ('d', 'd'), ('d', 'a'), ('a', 'b'), ('b', 'END'), ('END', 'NULL'), ('start', 'c'), ('c', 'END'), ('END', 'END'), ('start', 'b'), ('b', 'd'), ('b', 'c'), ('c', 'conv'), ('b', 'a'), ('a', 'a'), ('a', 'END'), ('d', 'b'), ('d', 'END'), ('c', 'b'), ('a', 'c'), ('start', 'a'), ('d', 'c'), ('c', 'a'), ('a', 'd'), ('c', 'NULL'), ('END', 'conv'), ('c', 'd'), ('b', 'b'), ('c', 'c'), ('b', 'NULL'), ('d', 'NULL'), ('d', 'conv'), ('a', 'NULL'), ('a', 'conv'), ('b', 'conv')])"
      ]
     },
     "execution_count": 17,
     "metadata": {},
     "output_type": "execute_result"
    }
   ],
   "source": [
    "transitions.keys()"
   ]
  },
  {
   "cell_type": "code",
   "execution_count": null,
   "id": "1c47169c",
   "metadata": {},
   "outputs": [],
   "source": []
  },
  {
   "cell_type": "code",
   "execution_count": null,
   "id": "79565c5d",
   "metadata": {},
   "outputs": [],
   "source": []
  },
  {
   "cell_type": "code",
   "execution_count": 39,
   "id": "faf39827",
   "metadata": {},
   "outputs": [
    {
     "name": "stdout",
     "output_type": "stream",
     "text": [
      "{'a': 0.12970435322417942,\n",
      " 'b': 0.44348054679284965,\n",
      " 'c': 0.818481626060035,\n",
      " 'd': 2.384433003658041}\n"
     ]
    }
   ],
   "source": [
    "# Cost per click for each campaign\n",
    "cost_per_click = {'a': 7, 'b': 5, 'c': 4, 'd': 2}\n",
    "\n",
    "# Calculate total clicks and revenue for each campaign\n",
    "total_clicks = {campaign: (df == campaign).sum().sum() for campaign in ['a', 'b', 'c', 'd']}\n",
    "total_revenue = {campaign: df[df[['click_1', 'click_2', 'click_3', 'click_4', 'click_5']].apply(lambda row: campaign in row.values, axis=1)]['value'].sum() for campaign in ['a', 'b', 'c', 'd']}\n",
    "\n",
    "# Calculate ROI for each campaign\n",
    "roi = {campaign: (total_revenue[campaign] - total_clicks[campaign] * cost_per_click[campaign]) / (total_clicks[campaign] * cost_per_click[campaign]) for campaign in ['a', 'b', 'c', 'd']}\n",
    "pprint(roi)\n"
   ]
  },
  {
   "cell_type": "code",
   "execution_count": 40,
   "id": "56d3364d",
   "metadata": {},
   "outputs": [
    {
     "name": "stdout",
     "output_type": "stream",
     "text": [
      "Budget allocation based on ROI:\n",
      "Campaign a: $34348.76\n",
      "Campaign b: $117444.08\n",
      "Campaign c: $216753.19\n",
      "Campaign d: $631453.96\n"
     ]
    }
   ],
   "source": [
    "# Total budget\n",
    "total_budget = 1_000_000\n",
    "\n",
    "# Proportion of budget based on ROI\n",
    "total_roi = sum(roi.values())\n",
    "budget_allocation = {campaign: (roi[campaign] / total_roi) * total_budget for campaign in roi}\n",
    "\n",
    "# Print budget allocation\n",
    "print(\"Budget allocation based on ROI:\")\n",
    "for campaign, budget in budget_allocation.items():\n",
    "    print(f\"Campaign {campaign}: ${budget:.2f}\")\n"
   ]
  },
  {
   "cell_type": "code",
   "execution_count": 41,
   "id": "890f24a6",
   "metadata": {},
   "outputs": [
    {
     "data": {
      "text/plain": [
       "{'a': 0.12970435322417942,\n",
       " 'b': 0.44348054679284965,\n",
       " 'c': 0.818481626060035,\n",
       " 'd': 2.384433003658041}"
      ]
     },
     "execution_count": 41,
     "metadata": {},
     "output_type": "execute_result"
    }
   ],
   "source": [
    "roi"
   ]
  },
  {
   "cell_type": "code",
   "execution_count": 42,
   "id": "f731849a",
   "metadata": {},
   "outputs": [
    {
     "data": {
      "text/plain": [
       "(2203, 8)"
      ]
     },
     "execution_count": 42,
     "metadata": {},
     "output_type": "execute_result"
    }
   ],
   "source": [
    "df[df.conversion > 0].shape"
   ]
  },
  {
   "cell_type": "code",
   "execution_count": null,
   "id": "56c72024",
   "metadata": {},
   "outputs": [],
   "source": []
  },
  {
   "cell_type": "markdown",
   "id": "4f096c20",
   "metadata": {},
   "source": [
    "#### DEFINE STATES\n",
    "##### START, a, b, c, d, NULL, Conversion"
   ]
  },
  {
   "cell_type": "code",
   "execution_count": 4,
   "id": "33e91681",
   "metadata": {},
   "outputs": [],
   "source": [
    "#The cost per click is $7, $5, $4, and $2 for campaign A, B, C, and D, respectively. \n",
    "# The company pay for the cost per click\n",
    "# the profit = revenue \n",
    "cpc_dict = {\"a\": 7, \"b\": 5, \"c\": 4, \"d\": 2}\n",
    "df[\"cost\"] = 0\n",
    "for i in range(1, 6):\n",
    "    df[f\"click_{i}_cost\"] = df[f\"click_{i}\"].map(cpc_dict).fillna(0)\n",
    "    df[\"cost\"] += df[f\"click_{i}_cost\"]\n",
    "df[\"profit\"] = df[\"value\"] - df[\"cost\"]\n",
    "df.profit[df.profit < 0] = 0\n",
    "df[\"path\"] = df[[\"click_1\", \"click_2\", \"click_3\", \"click_4\", \"click_5\"]].astype(str).agg(\" \".join, axis=1) #.str.split(\" \")"
   ]
  },
  {
   "cell_type": "code",
   "execution_count": 5,
   "id": "9ece4d1c",
   "metadata": {},
   "outputs": [],
   "source": [
    "df['path'] = np.where(df['conversion'] == 0,\n",
    "                      ['Start '] + df['path'] + [' NULL'],\n",
    "                      ['Start '] + df['path'] + [' Conversion'])\n",
    "df[\"path\"] = df[\"path\"].str.split(\" \")"
   ]
  },
  {
   "cell_type": "code",
   "execution_count": 6,
   "id": "7fc5f6c8",
   "metadata": {},
   "outputs": [
    {
     "data": {
      "text/html": [
       "<div>\n",
       "<style scoped>\n",
       "    .dataframe tbody tr th:only-of-type {\n",
       "        vertical-align: middle;\n",
       "    }\n",
       "\n",
       "    .dataframe tbody tr th {\n",
       "        vertical-align: top;\n",
       "    }\n",
       "\n",
       "    .dataframe thead th {\n",
       "        text-align: right;\n",
       "    }\n",
       "</style>\n",
       "<table border=\"1\" class=\"dataframe\">\n",
       "  <thead>\n",
       "    <tr style=\"text-align: right;\">\n",
       "      <th></th>\n",
       "      <th>user</th>\n",
       "      <th>click_1</th>\n",
       "      <th>click_2</th>\n",
       "      <th>click_3</th>\n",
       "      <th>click_4</th>\n",
       "      <th>click_5</th>\n",
       "      <th>conversion</th>\n",
       "      <th>value</th>\n",
       "      <th>cost</th>\n",
       "      <th>click_1_cost</th>\n",
       "      <th>click_2_cost</th>\n",
       "      <th>click_3_cost</th>\n",
       "      <th>click_4_cost</th>\n",
       "      <th>click_5_cost</th>\n",
       "      <th>profit</th>\n",
       "      <th>path</th>\n",
       "    </tr>\n",
       "  </thead>\n",
       "  <tbody>\n",
       "    <tr>\n",
       "      <th>0</th>\n",
       "      <td>1</td>\n",
       "      <td>d</td>\n",
       "      <td>d</td>\n",
       "      <td>a</td>\n",
       "      <td>b</td>\n",
       "      <td>NULL</td>\n",
       "      <td>0</td>\n",
       "      <td>0</td>\n",
       "      <td>16.0</td>\n",
       "      <td>2</td>\n",
       "      <td>2.0</td>\n",
       "      <td>7.0</td>\n",
       "      <td>5.0</td>\n",
       "      <td>0.0</td>\n",
       "      <td>0.0</td>\n",
       "      <td>[Start, d, d, a, b, NULL, NULL]</td>\n",
       "    </tr>\n",
       "    <tr>\n",
       "      <th>1</th>\n",
       "      <td>2</td>\n",
       "      <td>c</td>\n",
       "      <td>NULL</td>\n",
       "      <td>NULL</td>\n",
       "      <td>NULL</td>\n",
       "      <td>NULL</td>\n",
       "      <td>0</td>\n",
       "      <td>0</td>\n",
       "      <td>4.0</td>\n",
       "      <td>4</td>\n",
       "      <td>0.0</td>\n",
       "      <td>0.0</td>\n",
       "      <td>0.0</td>\n",
       "      <td>0.0</td>\n",
       "      <td>0.0</td>\n",
       "      <td>[Start, c, NULL, NULL, NULL, NULL, NULL]</td>\n",
       "    </tr>\n",
       "    <tr>\n",
       "      <th>2</th>\n",
       "      <td>3</td>\n",
       "      <td>b</td>\n",
       "      <td>d</td>\n",
       "      <td>a</td>\n",
       "      <td>b</td>\n",
       "      <td>c</td>\n",
       "      <td>1</td>\n",
       "      <td>44</td>\n",
       "      <td>23.0</td>\n",
       "      <td>5</td>\n",
       "      <td>2.0</td>\n",
       "      <td>7.0</td>\n",
       "      <td>5.0</td>\n",
       "      <td>4.0</td>\n",
       "      <td>21.0</td>\n",
       "      <td>[Start, b, d, a, b, c, Conversion]</td>\n",
       "    </tr>\n",
       "    <tr>\n",
       "      <th>3</th>\n",
       "      <td>4</td>\n",
       "      <td>b</td>\n",
       "      <td>a</td>\n",
       "      <td>a</td>\n",
       "      <td>NULL</td>\n",
       "      <td>NULL</td>\n",
       "      <td>0</td>\n",
       "      <td>0</td>\n",
       "      <td>19.0</td>\n",
       "      <td>5</td>\n",
       "      <td>7.0</td>\n",
       "      <td>7.0</td>\n",
       "      <td>0.0</td>\n",
       "      <td>0.0</td>\n",
       "      <td>0.0</td>\n",
       "      <td>[Start, b, a, a, NULL, NULL, NULL]</td>\n",
       "    </tr>\n",
       "    <tr>\n",
       "      <th>4</th>\n",
       "      <td>5</td>\n",
       "      <td>d</td>\n",
       "      <td>b</td>\n",
       "      <td>d</td>\n",
       "      <td>NULL</td>\n",
       "      <td>NULL</td>\n",
       "      <td>0</td>\n",
       "      <td>0</td>\n",
       "      <td>9.0</td>\n",
       "      <td>2</td>\n",
       "      <td>5.0</td>\n",
       "      <td>2.0</td>\n",
       "      <td>0.0</td>\n",
       "      <td>0.0</td>\n",
       "      <td>0.0</td>\n",
       "      <td>[Start, d, b, d, NULL, NULL, NULL]</td>\n",
       "    </tr>\n",
       "  </tbody>\n",
       "</table>\n",
       "</div>"
      ],
      "text/plain": [
       "   user click_1 click_2 click_3 click_4 click_5  conversion  value  cost  \\\n",
       "0     1       d       d       a       b    NULL           0      0  16.0   \n",
       "1     2       c    NULL    NULL    NULL    NULL           0      0   4.0   \n",
       "2     3       b       d       a       b       c           1     44  23.0   \n",
       "3     4       b       a       a    NULL    NULL           0      0  19.0   \n",
       "4     5       d       b       d    NULL    NULL           0      0   9.0   \n",
       "\n",
       "   click_1_cost  click_2_cost  click_3_cost  click_4_cost  click_5_cost  \\\n",
       "0             2           2.0           7.0           5.0           0.0   \n",
       "1             4           0.0           0.0           0.0           0.0   \n",
       "2             5           2.0           7.0           5.0           4.0   \n",
       "3             5           7.0           7.0           0.0           0.0   \n",
       "4             2           5.0           2.0           0.0           0.0   \n",
       "\n",
       "   profit                                      path  \n",
       "0     0.0           [Start, d, d, a, b, NULL, NULL]  \n",
       "1     0.0  [Start, c, NULL, NULL, NULL, NULL, NULL]  \n",
       "2    21.0        [Start, b, d, a, b, c, Conversion]  \n",
       "3     0.0        [Start, b, a, a, NULL, NULL, NULL]  \n",
       "4     0.0        [Start, d, b, d, NULL, NULL, NULL]  "
      ]
     },
     "execution_count": 6,
     "metadata": {},
     "output_type": "execute_result"
    }
   ],
   "source": [
    "df.head(5)"
   ]
  },
  {
   "cell_type": "code",
   "execution_count": 7,
   "id": "8c52ba93",
   "metadata": {},
   "outputs": [
    {
     "data": {
      "text/plain": [
       "(134066.0, 87934, 50954.0)"
      ]
     },
     "execution_count": 7,
     "metadata": {},
     "output_type": "execute_result"
    }
   ],
   "source": [
    "df.cost.sum(), df.value.sum(), df.profit.sum()"
   ]
  },
  {
   "cell_type": "code",
   "execution_count": 8,
   "id": "3157a1cf",
   "metadata": {},
   "outputs": [],
   "source": [
    "list_of_paths = df['path']\n",
    "total_conversions = sum(path.count('Conversion') for path in df['path'].tolist())\n",
    "base_conversion_rate = total_conversions / len(list_of_paths)\n",
    "total_value = df[\"value\"].sum()\n",
    "base_revenue_rate = total_value / len(list_of_paths)\n",
    "total_profit = df[\"profit\"].sum()\n",
    "base_profit_rate = total_profit / len(list_of_paths)"
   ]
  },
  {
   "cell_type": "markdown",
   "id": "e29d7bad",
   "metadata": {},
   "source": [
    "#### BUILD TRANSITION STATES"
   ]
  },
  {
   "cell_type": "code",
   "execution_count": 9,
   "id": "b748a758",
   "metadata": {},
   "outputs": [],
   "source": [
    "def transition_states(list_of_paths):\n",
    "    list_of_unique_channels = set(x for element in list_of_paths for x in element)\n",
    "    #print(list_of_unique_channels)\n",
    "    transition_states = {x + '-->' + y: 0 for x in list_of_unique_channels for y in list_of_unique_channels}\n",
    "    #print(transition_states)\n",
    "    for possible_state in list_of_unique_channels:\n",
    "        if possible_state not in ['Conversion', 'NULL']:\n",
    "            for user_path in list_of_paths:\n",
    "                if possible_state in user_path:\n",
    "                    indices = [i for i, s in enumerate(user_path) if possible_state in s]\n",
    "                    for col in indices:\n",
    "                        #print(col)\n",
    "                        #print(user_path)\n",
    "                        #print(user_path[col])\n",
    "                        if col < len(user_path) - 1:\n",
    "                            transition_states[user_path[col] + '-->' + user_path[col + 1]] += 1\n",
    "\n",
    "    return transition_states"
   ]
  },
  {
   "cell_type": "code",
   "execution_count": 10,
   "id": "f3346a77",
   "metadata": {},
   "outputs": [],
   "source": [
    "trans_states = transition_states(list_of_paths)"
   ]
  },
  {
   "cell_type": "code",
   "execution_count": 11,
   "id": "9cb1153f",
   "metadata": {},
   "outputs": [
    {
     "data": {
      "text/plain": [
       "{'Conversion-->Conversion': 0,\n",
       " 'Conversion-->a': 0,\n",
       " 'Conversion-->d': 0,\n",
       " 'Conversion-->c': 0,\n",
       " 'Conversion-->NULL': 0,\n",
       " 'Conversion-->b': 0,\n",
       " 'Conversion-->Start': 0,\n",
       " 'a-->Conversion': 183,\n",
       " 'a-->a': 1226,\n",
       " 'a-->d': 1214,\n",
       " 'a-->c': 1212,\n",
       " 'a-->NULL': 2243,\n",
       " 'a-->b': 1286,\n",
       " 'a-->Start': 0,\n",
       " 'd-->Conversion': 157,\n",
       " 'd-->a': 1219,\n",
       " 'd-->d': 1223,\n",
       " 'd-->c': 1212,\n",
       " 'd-->NULL': 2334,\n",
       " 'd-->b': 1236,\n",
       " 'd-->Start': 0,\n",
       " 'c-->Conversion': 165,\n",
       " 'c-->a': 1168,\n",
       " 'c-->d': 1228,\n",
       " 'c-->c': 1256,\n",
       " 'c-->NULL': 2356,\n",
       " 'c-->b': 1256,\n",
       " 'c-->Start': 0,\n",
       " 'NULL-->Conversion': 0,\n",
       " 'NULL-->a': 0,\n",
       " 'NULL-->d': 0,\n",
       " 'NULL-->c': 0,\n",
       " 'NULL-->NULL': 0,\n",
       " 'NULL-->b': 0,\n",
       " 'NULL-->Start': 0,\n",
       " 'b-->Conversion': 192,\n",
       " 'b-->a': 1258,\n",
       " 'b-->d': 1259,\n",
       " 'b-->c': 1252,\n",
       " 'b-->NULL': 2370,\n",
       " 'b-->b': 1277,\n",
       " 'b-->Start': 0,\n",
       " 'Start-->Conversion': 0,\n",
       " 'Start-->a': 4986,\n",
       " 'Start-->d': 3403,\n",
       " 'Start-->c': 3426,\n",
       " 'Start-->NULL': 0,\n",
       " 'Start-->b': 3513,\n",
       " 'Start-->Start': 0}"
      ]
     },
     "execution_count": 11,
     "metadata": {},
     "output_type": "execute_result"
    }
   ],
   "source": [
    "trans_states"
   ]
  },
  {
   "cell_type": "markdown",
   "id": "2a18c946",
   "metadata": {},
   "source": [
    "#### FROM TRANSITION FREQUENCY, BUILD TRANSITION PROBABILITY MATRIX"
   ]
  },
  {
   "cell_type": "code",
   "execution_count": 12,
   "id": "9ee163f2",
   "metadata": {},
   "outputs": [],
   "source": [
    "def transition_probability(trans_dict):\n",
    "    list_of_unique_channels = set(x for element in list_of_paths for x in element)\n",
    "    trans_prob = defaultdict(dict)\n",
    "    for state in list_of_unique_channels:\n",
    "        if state not in ['Conversion', 'NULL']:\n",
    "            counter = 0\n",
    "            index = [i for i, s in enumerate(trans_dict) if state + '-->' in s]\n",
    "            for col in index:\n",
    "                if trans_dict[list(trans_dict)[col]] > 0:\n",
    "                    counter += trans_dict[list(trans_dict)[col]]\n",
    "            for col in index:\n",
    "                if trans_dict[list(trans_dict)[col]] > 0:\n",
    "                    state_prob = float((trans_dict[list(trans_dict)[col]])) / float(counter)\n",
    "                    trans_prob[list(trans_dict)[col]] = state_prob\n",
    "\n",
    "    return trans_prob"
   ]
  },
  {
   "cell_type": "code",
   "execution_count": 13,
   "id": "a2d6a559",
   "metadata": {},
   "outputs": [
    {
     "name": "stdout",
     "output_type": "stream",
     "text": [
      "defaultdict(<class 'dict'>,\n",
      "            {'Start-->a': 0.32528705636743216,\n",
      "             'Start-->b': 0.2291884133611691,\n",
      "             'Start-->c': 0.2235125260960334,\n",
      "             'Start-->d': 0.22201200417536535,\n",
      "             'a-->Conversion': 0.024850624660510592,\n",
      "             'a-->NULL': 0.30458989679521997,\n",
      "             'a-->a': 0.16648560564910375,\n",
      "             'a-->b': 0.1746333514394351,\n",
      "             'a-->c': 0.1645844649646931,\n",
      "             'a-->d': 0.1648560564910375,\n",
      "             'b-->Conversion': 0.025236593059936908,\n",
      "             'b-->NULL': 0.3115141955835962,\n",
      "             'b-->a': 0.16535226077812828,\n",
      "             'b-->b': 0.16784963196635122,\n",
      "             'b-->c': 0.16456361724500526,\n",
      "             'b-->d': 0.16548370136698212,\n",
      "             'c-->Conversion': 0.02221025710055189,\n",
      "             'c-->NULL': 0.3171355498721228,\n",
      "             'c-->a': 0.15722169874814915,\n",
      "             'c-->b': 0.1690671692017768,\n",
      "             'c-->c': 0.1690671692017768,\n",
      "             'c-->d': 0.16529815587562255,\n",
      "             'd-->Conversion': 0.0212708305107709,\n",
      "             'd-->NULL': 0.31621731472700176,\n",
      "             'd-->a': 0.1651537732014632,\n",
      "             'd-->b': 0.16745698414848936,\n",
      "             'd-->c': 0.164205392223276,\n",
      "             'd-->d': 0.1656957051889988})\n"
     ]
    }
   ],
   "source": [
    "state_probability = transition_probability(trans_states)\n",
    "pprint(state_probability)"
   ]
  },
  {
   "cell_type": "code",
   "execution_count": 14,
   "id": "c30876d1",
   "metadata": {},
   "outputs": [
    {
     "name": "stdout",
     "output_type": "stream",
     "text": [
      "Markov transition matrix\n"
     ]
    },
    {
     "data": {
      "text/html": [
       "<div>\n",
       "<style scoped>\n",
       "    .dataframe tbody tr th:only-of-type {\n",
       "        vertical-align: middle;\n",
       "    }\n",
       "\n",
       "    .dataframe tbody tr th {\n",
       "        vertical-align: top;\n",
       "    }\n",
       "\n",
       "    .dataframe thead th {\n",
       "        text-align: right;\n",
       "    }\n",
       "</style>\n",
       "<table border=\"1\" class=\"dataframe\">\n",
       "  <thead>\n",
       "    <tr style=\"text-align: right;\">\n",
       "      <th></th>\n",
       "      <th>Conversion</th>\n",
       "      <th>a</th>\n",
       "      <th>d</th>\n",
       "      <th>c</th>\n",
       "      <th>NULL</th>\n",
       "      <th>b</th>\n",
       "      <th>Start</th>\n",
       "    </tr>\n",
       "  </thead>\n",
       "  <tbody>\n",
       "    <tr>\n",
       "      <th>Conversion</th>\n",
       "      <td>1.000000</td>\n",
       "      <td>0.000000</td>\n",
       "      <td>0.000000</td>\n",
       "      <td>0.000000</td>\n",
       "      <td>0.000000</td>\n",
       "      <td>0.000000</td>\n",
       "      <td>0.0</td>\n",
       "    </tr>\n",
       "    <tr>\n",
       "      <th>a</th>\n",
       "      <td>0.024851</td>\n",
       "      <td>0.166486</td>\n",
       "      <td>0.164856</td>\n",
       "      <td>0.164584</td>\n",
       "      <td>0.304590</td>\n",
       "      <td>0.174633</td>\n",
       "      <td>0.0</td>\n",
       "    </tr>\n",
       "    <tr>\n",
       "      <th>d</th>\n",
       "      <td>0.021271</td>\n",
       "      <td>0.165154</td>\n",
       "      <td>0.165696</td>\n",
       "      <td>0.164205</td>\n",
       "      <td>0.316217</td>\n",
       "      <td>0.167457</td>\n",
       "      <td>0.0</td>\n",
       "    </tr>\n",
       "    <tr>\n",
       "      <th>c</th>\n",
       "      <td>0.022210</td>\n",
       "      <td>0.157222</td>\n",
       "      <td>0.165298</td>\n",
       "      <td>0.169067</td>\n",
       "      <td>0.317136</td>\n",
       "      <td>0.169067</td>\n",
       "      <td>0.0</td>\n",
       "    </tr>\n",
       "    <tr>\n",
       "      <th>NULL</th>\n",
       "      <td>0.000000</td>\n",
       "      <td>0.000000</td>\n",
       "      <td>0.000000</td>\n",
       "      <td>0.000000</td>\n",
       "      <td>1.000000</td>\n",
       "      <td>0.000000</td>\n",
       "      <td>0.0</td>\n",
       "    </tr>\n",
       "    <tr>\n",
       "      <th>b</th>\n",
       "      <td>0.025237</td>\n",
       "      <td>0.165352</td>\n",
       "      <td>0.165484</td>\n",
       "      <td>0.164564</td>\n",
       "      <td>0.311514</td>\n",
       "      <td>0.167850</td>\n",
       "      <td>0.0</td>\n",
       "    </tr>\n",
       "    <tr>\n",
       "      <th>Start</th>\n",
       "      <td>0.000000</td>\n",
       "      <td>0.325287</td>\n",
       "      <td>0.222012</td>\n",
       "      <td>0.223513</td>\n",
       "      <td>0.000000</td>\n",
       "      <td>0.229188</td>\n",
       "      <td>0.0</td>\n",
       "    </tr>\n",
       "  </tbody>\n",
       "</table>\n",
       "</div>"
      ],
      "text/plain": [
       "            Conversion         a         d         c      NULL         b  \\\n",
       "Conversion    1.000000  0.000000  0.000000  0.000000  0.000000  0.000000   \n",
       "a             0.024851  0.166486  0.164856  0.164584  0.304590  0.174633   \n",
       "d             0.021271  0.165154  0.165696  0.164205  0.316217  0.167457   \n",
       "c             0.022210  0.157222  0.165298  0.169067  0.317136  0.169067   \n",
       "NULL          0.000000  0.000000  0.000000  0.000000  1.000000  0.000000   \n",
       "b             0.025237  0.165352  0.165484  0.164564  0.311514  0.167850   \n",
       "Start         0.000000  0.325287  0.222012  0.223513  0.000000  0.229188   \n",
       "\n",
       "            Start  \n",
       "Conversion    0.0  \n",
       "a             0.0  \n",
       "d             0.0  \n",
       "c             0.0  \n",
       "NULL          0.0  \n",
       "b             0.0  \n",
       "Start         0.0  "
      ]
     },
     "metadata": {},
     "output_type": "display_data"
    }
   ],
   "source": [
    "def construct_transition_matrix(list_of_paths, state_probability):\n",
    "    transition_matrix = pd.DataFrame()\n",
    "    list_of_unique_channels = set(x for element in list_of_paths for x in element)\n",
    "\n",
    "    for channel in list_of_unique_channels:\n",
    "        transition_matrix[channel] = 0.00\n",
    "        transition_matrix.loc[channel] = 0.00\n",
    "        transition_matrix.loc[channel][channel] = 1.0 if channel in ['Conversion', 'NULL'] else 0.0\n",
    "\n",
    "    for key, value in state_probability.items():\n",
    "        origin, destination = key.split('-->')\n",
    "        transition_matrix.at[origin, destination] = value\n",
    "\n",
    "    return transition_matrix\n",
    "\n",
    "transition_matrix = construct_transition_matrix(list_of_paths, state_probability)\n",
    "print(\"Markov transition matrix\")\n",
    "display(transition_matrix)"
   ]
  },
  {
   "cell_type": "markdown",
   "id": "3783502b",
   "metadata": {},
   "source": [
    "#### HAVING TRANSITION MATRIX, CALCULATE REMOVAL EFFECTS OF EACH CAMPAIGN"
   ]
  },
  {
   "cell_type": "code",
   "execution_count": 15,
   "id": "1ac9b2b7",
   "metadata": {},
   "outputs": [],
   "source": [
    "def removal_effects(df, conversion_rate):\n",
    "    removal_effects_dict = {}\n",
    "    channels = [channel for channel in df.columns if channel not in ['Start',\n",
    "                                                                     'NULL',\n",
    "                                                                     'Conversion']]\n",
    "    for channel in channels:\n",
    "        removal_df = df.drop(channel, axis=1).drop(channel, axis=0)\n",
    "        for column in removal_df.columns:\n",
    "            row_sum = np.sum(list(removal_df.loc[column]))\n",
    "            null_pct = float(1) - row_sum\n",
    "            if null_pct != 0:\n",
    "                removal_df.loc[column]['NULL'] = null_pct\n",
    "            removal_df.loc['NULL']['NULL'] = 1.0\n",
    "\n",
    "        removal_to_conv = removal_df[\n",
    "            ['NULL', 'Conversion']].drop(['NULL', 'Conversion'], axis=0)\n",
    "        removal_to_non_conv = removal_df.drop(\n",
    "            ['NULL', 'Conversion'], axis=1).drop(['NULL', 'Conversion'], axis=0)\n",
    "\n",
    "        removal_inv_diff = np.linalg.inv(\n",
    "            np.identity(\n",
    "                len(removal_to_non_conv.columns)) - np.asarray(removal_to_non_conv))\n",
    "        removal_dot_prod = np.dot(removal_inv_diff, np.asarray(removal_to_conv))\n",
    "        removal_cvr = pd.DataFrame(removal_dot_prod,\n",
    "                                   index=removal_to_conv.index)[[1]].loc['Start'].values[0]\n",
    "        removal_effect = 1 - removal_cvr / conversion_rate\n",
    "        removal_effects_dict[channel] = removal_effect\n",
    "\n",
    "    return {k: v for k, v in sorted(removal_effects_dict.items())} \n",
    "\n",
    "campaign_removal_effect = removal_effects(transition_matrix, base_conversion_rate)"
   ]
  },
  {
   "cell_type": "code",
   "execution_count": 16,
   "id": "b04fc190",
   "metadata": {},
   "outputs": [],
   "source": [
    "def allocator(removal_effects, unit):\n",
    "    sum_effect = sum(list(removal_effects.values()))    \n",
    "    allocation_result = {k: (v / sum_effect) * unit for k, v in sorted(removal_effects.items())}    \n",
    "    return allocation_result\n",
    "\n",
    "conversion_unit_attributions = allocator(campaign_removal_effect, 1)"
   ]
  },
  {
   "cell_type": "markdown",
   "id": "5ebe11f7",
   "metadata": {},
   "source": [
    "#### RESULT OF CONVERSTION ATTRIBUTION"
   ]
  },
  {
   "cell_type": "code",
   "execution_count": 17,
   "id": "281f434c",
   "metadata": {},
   "outputs": [
    {
     "name": "stdout",
     "output_type": "stream",
     "text": [
      "removal_effects_dict\n",
      "{'a': 0.8597100706463602, 'b': 0.8414695477652324, 'c': 0.8312865403541212, 'd': 0.8293959429065695}\n",
      "Conversion Unit Attribution\n",
      "{'a': 0.2557243707940063, 'b': 0.25029865066347073, 'c': 0.24726967234635122, 'd': 0.24670730619617173}\n",
      "revenue attributions\n",
      "{'a': 22486.86682140015, 'b': 22009.761547441634, 'c': 21743.411368104047, 'd': 21693.960263054167}\n"
     ]
    }
   ],
   "source": [
    "removal_effects_dict = removal_effects(transition_matrix, base_conversion_rate)\n",
    "revenue_attributions = allocator(removal_effects_dict, total_value)\n",
    "print(\"removal_effects_dict\")\n",
    "print(removal_effects_dict)\n",
    "print(\"Conversion Unit Attribution\")\n",
    "print(conversion_unit_attributions)\n",
    "print(\"revenue attributions\")\n",
    "print(revenue_attributions)"
   ]
  },
  {
   "cell_type": "markdown",
   "id": "49a1bcb8",
   "metadata": {},
   "source": [
    "#### Cost per campaign\n",
    "(again, assume the cost is charged when there is conversion)"
   ]
  },
  {
   "cell_type": "code",
   "execution_count": 18,
   "id": "3f13b5b2",
   "metadata": {},
   "outputs": [],
   "source": [
    "cost_campaign = {}\n",
    "for campaign in [\"a\", \"b\", \"c\", \"d\"]:\n",
    "    cost_campaign[campaign] = 0\n",
    "    for n_click in range(1, 6):\n",
    "        cost_campaign[campaign] += df.loc[((df[f\"click_{n_click}\"]==campaign)\n",
    "                                           &(df[\"value\"] > 0)), f\"click_{n_click}_cost\"].sum()"
   ]
  },
  {
   "cell_type": "code",
   "execution_count": 19,
   "id": "bb13cff2",
   "metadata": {},
   "outputs": [
    {
     "data": {
      "text/plain": [
       "{'a': 15470.0, 'b': 10060.0, 'c': 7916.0, 'd': 3542.0}"
      ]
     },
     "execution_count": 19,
     "metadata": {},
     "output_type": "execute_result"
    }
   ],
   "source": [
    "cost_campaign"
   ]
  },
  {
   "cell_type": "markdown",
   "id": "f8adeb1f",
   "metadata": {},
   "source": [
    "### ROI per campaign"
   ]
  },
  {
   "cell_type": "code",
   "execution_count": 20,
   "id": "45b6d409",
   "metadata": {},
   "outputs": [],
   "source": [
    "roi_attributions = {}\n",
    "for k, v in revenue_attributions.items():\n",
    "    roi_attributions[k] = v - cost_campaign[k]"
   ]
  },
  {
   "cell_type": "code",
   "execution_count": 21,
   "id": "4c933226",
   "metadata": {},
   "outputs": [
    {
     "data": {
      "text/plain": [
       "{'a': 7016.866821400148,\n",
       " 'b': 11949.761547441634,\n",
       " 'c': 13827.411368104047,\n",
       " 'd': 18151.960263054167}"
      ]
     },
     "execution_count": 21,
     "metadata": {},
     "output_type": "execute_result"
    }
   ],
   "source": [
    "roi_attributions"
   ]
  },
  {
   "cell_type": "code",
   "execution_count": 27,
   "id": "6862b920",
   "metadata": {},
   "outputs": [
    {
     "name": "stdout",
     "output_type": "stream",
     "text": [
      "a 31.2 %\n",
      "b 54.29 %\n",
      "c 63.59 %\n",
      "d 83.67 %\n"
     ]
    }
   ],
   "source": [
    "for k, v in revenue_attributions.items():\n",
    "    print(k, round(100 * roi_attributions[k] / revenue_attributions[k], 2), \"%\")"
   ]
  },
  {
   "cell_type": "markdown",
   "id": "5ec064e4",
   "metadata": {},
   "source": [
    "#### Budget Allocation"
   ]
  },
  {
   "cell_type": "code",
   "execution_count": 22,
   "id": "7efca2ad",
   "metadata": {},
   "outputs": [],
   "source": [
    "budget = 1e6\n",
    "budget_attributions = allocator(removal_effects_dict, budget)"
   ]
  },
  {
   "cell_type": "code",
   "execution_count": 23,
   "id": "1793459f",
   "metadata": {},
   "outputs": [
    {
     "name": "stdout",
     "output_type": "stream",
     "text": [
      "{'a': 255724.37079400627, 'b': 250298.65066347073, 'c': 247269.67234635123, 'd': 246707.30619617173}\n"
     ]
    }
   ],
   "source": [
    "print(budget_attributions)"
   ]
  },
  {
   "cell_type": "markdown",
   "id": "f5488078",
   "metadata": {},
   "source": [
    "### CONCLUSIONS\n",
    "- Campaign a is the highest contributor of unit sales\n",
    "- RoI of each campaign:\n",
    "   - a ~ 7016 (31.2%)\n",
    "   - b ~ 11949 (54.3%)\n",
    "   - c ~ 13827 (63.6%)\n",
    "   - d ~ 18151 (83.7%)\n",
    "- For budget allocation, the distribution: a / b / c / d = 25.6 / 25 / 24.7 / 24.7 (in %)"
   ]
  }
 ],
 "metadata": {
  "kernelspec": {
   "display_name": "Python 3",
   "language": "python",
   "name": "python3"
  },
  "language_info": {
   "codemirror_mode": {
    "name": "ipython",
    "version": 3
   },
   "file_extension": ".py",
   "mimetype": "text/x-python",
   "name": "python",
   "nbconvert_exporter": "python",
   "pygments_lexer": "ipython3",
   "version": "3.10.4"
  }
 },
 "nbformat": 4,
 "nbformat_minor": 5
}
