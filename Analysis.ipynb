{
 "cells": [
  {
   "cell_type": "markdown",
   "id": "f847b9da",
   "metadata": {},
   "source": [
    "## Overview\n",
    "The business has been investing in four different display advertising campaigns. You have been asked to evaluate how effective\n",
    "each advertising campaign is in generating sales. Please see below the explanation of the data and the business questions.\n",
    "\n",
    "The data on the left include information on 10000 consumers who clicked on at least one of the display ads from campaigns\n",
    "A, B, C, or D. Purchase is indicated by the \"Conversion\" variable (i.e., equals 1 if there is purchase and 0 otherwise). The \"Value\" column indicates the revenue in dollars earned from each purchase. The cost per click is $7, $5, $4, and $2 for campaign A, B, C, and D, respectively. The order of clicks is as indicated in the data.\n",
    "\n",
    "You are asked to build a statistical model (so not a rule based attribution model such as last click attribution) and answer:\n",
    "\n",
    "Questions\n",
    "1. Which campaign is the most successful in terms of unit sales contributed?\n",
    "\n",
    "2. What is the return on investment for each campaign?\n",
    "\n",
    "3. How would you optimize the spend of a given budget of $1 million across all four campaigns?"
   ]
  },
  {
   "cell_type": "markdown",
   "id": "e2dc3267",
   "metadata": {},
   "source": [
    "# Loading Data and Fill Missing WITH 'NULL'"
   ]
  },
  {
   "cell_type": "code",
   "execution_count": 1,
   "id": "a4cea45a",
   "metadata": {},
   "outputs": [
    {
     "name": "stdout",
     "output_type": "stream",
     "text": [
      "Data Overview\n"
     ]
    },
    {
     "data": {
      "text/html": [
       "<div>\n",
       "<style scoped>\n",
       "    .dataframe tbody tr th:only-of-type {\n",
       "        vertical-align: middle;\n",
       "    }\n",
       "\n",
       "    .dataframe tbody tr th {\n",
       "        vertical-align: top;\n",
       "    }\n",
       "\n",
       "    .dataframe thead th {\n",
       "        text-align: right;\n",
       "    }\n",
       "</style>\n",
       "<table border=\"1\" class=\"dataframe\">\n",
       "  <thead>\n",
       "    <tr style=\"text-align: right;\">\n",
       "      <th></th>\n",
       "      <th>user</th>\n",
       "      <th>click_1</th>\n",
       "      <th>click_2</th>\n",
       "      <th>click_3</th>\n",
       "      <th>click_4</th>\n",
       "      <th>click_5</th>\n",
       "      <th>conversion</th>\n",
       "      <th>value</th>\n",
       "    </tr>\n",
       "  </thead>\n",
       "  <tbody>\n",
       "    <tr>\n",
       "      <th>0</th>\n",
       "      <td>1</td>\n",
       "      <td>d</td>\n",
       "      <td>d</td>\n",
       "      <td>a</td>\n",
       "      <td>b</td>\n",
       "      <td>NaN</td>\n",
       "      <td>0</td>\n",
       "      <td>0</td>\n",
       "    </tr>\n",
       "    <tr>\n",
       "      <th>1</th>\n",
       "      <td>2</td>\n",
       "      <td>c</td>\n",
       "      <td>NaN</td>\n",
       "      <td>NaN</td>\n",
       "      <td>NaN</td>\n",
       "      <td>NaN</td>\n",
       "      <td>0</td>\n",
       "      <td>0</td>\n",
       "    </tr>\n",
       "    <tr>\n",
       "      <th>2</th>\n",
       "      <td>3</td>\n",
       "      <td>b</td>\n",
       "      <td>d</td>\n",
       "      <td>a</td>\n",
       "      <td>b</td>\n",
       "      <td>c</td>\n",
       "      <td>1</td>\n",
       "      <td>44</td>\n",
       "    </tr>\n",
       "    <tr>\n",
       "      <th>3</th>\n",
       "      <td>4</td>\n",
       "      <td>b</td>\n",
       "      <td>a</td>\n",
       "      <td>a</td>\n",
       "      <td>NaN</td>\n",
       "      <td>NaN</td>\n",
       "      <td>0</td>\n",
       "      <td>0</td>\n",
       "    </tr>\n",
       "    <tr>\n",
       "      <th>4</th>\n",
       "      <td>5</td>\n",
       "      <td>d</td>\n",
       "      <td>b</td>\n",
       "      <td>d</td>\n",
       "      <td>NaN</td>\n",
       "      <td>NaN</td>\n",
       "      <td>0</td>\n",
       "      <td>0</td>\n",
       "    </tr>\n",
       "  </tbody>\n",
       "</table>\n",
       "</div>"
      ],
      "text/plain": [
       "   user click_1 click_2 click_3 click_4 click_5  conversion  value\n",
       "0     1       d       d       a       b     NaN           0      0\n",
       "1     2       c     NaN     NaN     NaN     NaN           0      0\n",
       "2     3       b       d       a       b       c           1     44\n",
       "3     4       b       a       a     NaN     NaN           0      0\n",
       "4     5       d       b       d     NaN     NaN           0      0"
      ]
     },
     "metadata": {},
     "output_type": "display_data"
    },
    {
     "name": "stdout",
     "output_type": "stream",
     "text": [
      "Sequence and States\n"
     ]
    },
    {
     "data": {
      "text/html": [
       "<div>\n",
       "<style scoped>\n",
       "    .dataframe tbody tr th:only-of-type {\n",
       "        vertical-align: middle;\n",
       "    }\n",
       "\n",
       "    .dataframe tbody tr th {\n",
       "        vertical-align: top;\n",
       "    }\n",
       "\n",
       "    .dataframe thead th {\n",
       "        text-align: right;\n",
       "    }\n",
       "</style>\n",
       "<table border=\"1\" class=\"dataframe\">\n",
       "  <thead>\n",
       "    <tr style=\"text-align: right;\">\n",
       "      <th></th>\n",
       "      <th>sequence</th>\n",
       "      <th>conversion</th>\n",
       "      <th>value</th>\n",
       "    </tr>\n",
       "  </thead>\n",
       "  <tbody>\n",
       "    <tr>\n",
       "      <th>0</th>\n",
       "      <td>[d, d, a, b, NULL, 0]</td>\n",
       "      <td>0</td>\n",
       "      <td>0</td>\n",
       "    </tr>\n",
       "    <tr>\n",
       "      <th>1</th>\n",
       "      <td>[c, NULL, NULL, NULL, NULL, 0]</td>\n",
       "      <td>0</td>\n",
       "      <td>0</td>\n",
       "    </tr>\n",
       "    <tr>\n",
       "      <th>2</th>\n",
       "      <td>[b, d, a, b, c, 1]</td>\n",
       "      <td>1</td>\n",
       "      <td>44</td>\n",
       "    </tr>\n",
       "    <tr>\n",
       "      <th>3</th>\n",
       "      <td>[b, a, a, NULL, NULL, 0]</td>\n",
       "      <td>0</td>\n",
       "      <td>0</td>\n",
       "    </tr>\n",
       "    <tr>\n",
       "      <th>4</th>\n",
       "      <td>[d, b, d, NULL, NULL, 0]</td>\n",
       "      <td>0</td>\n",
       "      <td>0</td>\n",
       "    </tr>\n",
       "  </tbody>\n",
       "</table>\n",
       "</div>"
      ],
      "text/plain": [
       "                         sequence  conversion  value\n",
       "0           [d, d, a, b, NULL, 0]           0      0\n",
       "1  [c, NULL, NULL, NULL, NULL, 0]           0      0\n",
       "2              [b, d, a, b, c, 1]           1     44\n",
       "3        [b, a, a, NULL, NULL, 0]           0      0\n",
       "4        [d, b, d, NULL, NULL, 0]           0      0"
      ]
     },
     "metadata": {},
     "output_type": "display_data"
    }
   ],
   "source": [
    "import numpy as np\n",
    "import pandas as pd\n",
    "from collections import defaultdict\n",
    "from pprint import pprint\n",
    "from scipy.optimize import linprog\n",
    "\n",
    "from helper import calculate_removal_effects, calculate_attribution, calculate_roi\n",
    "\n",
    "df = pd.read_csv('./data/user_click.csv')  # Load your data into a pandas DataFrame\n",
    "cost_per_click = {'a': 7, 'b': 5, 'c': 4, 'd': 2}  # Costs per click for each campaign\n",
    "columns = [\"user\", \"click_1\", \"click_2\", \"click_3\", \"click_4\", \"click_5\", \"conversion\", \"value\"]\n",
    "df = df[columns]\n",
    "print('Data Overview')\n",
    "display(df.head(5))\n",
    "# Fill missing values with \"END\" placeholder\n",
    "df[[\"click_1\", \"click_2\", \"click_3\", \"click_4\", \"click_5\"]] = df[[\"click_1\", \"click_2\", \"click_3\", \"click_4\", \"click_5\"]].fillna(\"NULL\")\n",
    "\n",
    "# Build sequence list: state \n",
    "df['sequence'] = df[['click_1', 'click_2', 'click_3', 'click_4', 'click_5', 'conversion']].values.tolist()\n",
    "df['sequence'] = df['sequence'].apply(lambda x: [i for i in x if pd.notna(i)])\n",
    "\n",
    "# Display the updated dataframe with the sequence column\n",
    "print(\"Sequence and States\")\n",
    "display(df[['sequence', 'conversion', 'value']].head())"
   ]
  },
  {
   "cell_type": "markdown",
   "id": "0531b437",
   "metadata": {},
   "source": [
    "#### The idea is to construct transition probability matrix between campaigns, to evaluate each campaign effect on conversion units"
   ]
  },
  {
   "cell_type": "code",
   "execution_count": 2,
   "id": "1c023969",
   "metadata": {},
   "outputs": [
    {
     "name": "stdout",
     "output_type": "stream",
     "text": [
      "Transition Matrix\n",
      "             a         b         c         d         0         1      NULL\n",
      "a     0.166486  0.174633  0.164584  0.164856  0.040060  0.024851  0.264530\n",
      "b     0.165352  0.167850  0.164564  0.165484  0.039695  0.025237  0.271819\n",
      "c     0.157222  0.169067  0.169067  0.165298  0.041728  0.022210  0.275407\n",
      "d     0.165154  0.167457  0.164205  0.165696  0.044167  0.021271  0.272050\n",
      "0     0.000000  0.000000  0.000000  0.000000  0.000000  0.000000  0.000000\n",
      "1     0.000000  0.000000  0.000000  0.000000  0.000000  0.000000  0.000000\n",
      "NULL  0.000000  0.000000  0.000000  0.000000  0.324661  0.074488  0.600851\n"
     ]
    }
   ],
   "source": [
    "# Initialize dictionaries to count transitions and the total counts per state\n",
    "transitions = defaultdict(int)\n",
    "total_counts = defaultdict(int)\n",
    "\n",
    "# Count transitions and total occurrences of each state\n",
    "for seq in df['sequence']:\n",
    "    for i in range(len(seq) - 1):\n",
    "        transitions[(seq[i], seq[i + 1])] += 1\n",
    "        total_counts[seq[i]] += 1\n",
    "    total_counts[seq[-1]] += 1  # Last state occurrence\n",
    "\n",
    "# Create the transition probability matrix\n",
    "# Add 2 states: 0 = No conversion, 1 = Conversion\n",
    "states = list(cost_per_click.keys())+[0]+[1]\n",
    "transition_matrix = pd.DataFrame(np.zeros((len(states), len(states))), index=states, columns=states)\n",
    "\n",
    "for (from_state, to_state), count in transitions.items():\n",
    "    transition_matrix.loc[from_state, to_state] = count / total_counts[from_state]\n",
    "transition_matrix = transition_matrix.fillna(0)\n",
    "# Display the transition matrix\n",
    "print(\"Transition Matrix\")\n",
    "pprint(transition_matrix)"
   ]
  },
  {
   "cell_type": "markdown",
   "id": "8638cfde",
   "metadata": {},
   "source": [
    "# Removal Effects by Each Campaign"
   ]
  },
  {
   "cell_type": "code",
   "execution_count": 3,
   "id": "cbdcfd11",
   "metadata": {},
   "outputs": [
    {
     "name": "stdout",
     "output_type": "stream",
     "text": [
      "Removal Effects of each Campaign\n",
      "{'a': -0.1373493815350687,\n",
      " 'b': -0.13506083188630125,\n",
      " 'c': -0.14303872488718505,\n",
      " 'd': -0.1444904666185951}\n"
     ]
    }
   ],
   "source": [
    "removal_effects = calculate_removal_effects(transition_matrix, cost_per_click)\n",
    "print(\"Removal Effects of each Campaign\")\n",
    "pprint(removal_effects)"
   ]
  },
  {
   "cell_type": "markdown",
   "id": "6a320288",
   "metadata": {},
   "source": [
    "# Conversion and Revenue Attribution"
   ]
  },
  {
   "cell_type": "code",
   "execution_count": 4,
   "id": "f3c2812b",
   "metadata": {},
   "outputs": [
    {
     "name": "stdout",
     "output_type": "stream",
     "text": [
      "Attribution (Conversions):\n",
      "{'a': 540.3811284921501,\n",
      " 'b': 531.3771633632972,\n",
      " 'c': 562.7650209176938,\n",
      " 'd': 568.4766872268589}\n",
      "Attribution (Revenue or Value):\n",
      "{'a': 21569.62058684917,\n",
      " 'b': 21210.22218937275,\n",
      " 'c': 22463.086404619382,\n",
      " 'd': 22691.070819158696}\n"
     ]
    }
   ],
   "source": [
    "total_conversions = df['conversion'].sum()\n",
    "total_revenue = df['value'].sum()\n",
    "attribution_conversions, attribution_revenue = calculate_attribution(removal_effects, total_conversions, total_revenue)\n",
    "print(\"Attribution (Conversions):\")\n",
    "pprint(attribution_conversions)\n",
    "print(\"Attribution (Revenue or Value):\")\n",
    "pprint(attribution_revenue)"
   ]
  },
  {
   "cell_type": "code",
   "execution_count": 5,
   "id": "7269671c",
   "metadata": {},
   "outputs": [
    {
     "name": "stdout",
     "output_type": "stream",
     "text": [
      "Total Click by Campaign\n"
     ]
    },
    {
     "data": {
      "text/plain": [
       "{'a': 7364, 'b': 7608, 'c': 7429, 'd': 7381}"
      ]
     },
     "metadata": {},
     "output_type": "display_data"
    },
    {
     "name": "stdout",
     "output_type": "stream",
     "text": [
      "Total Cost by Campaign\n"
     ]
    },
    {
     "data": {
      "text/plain": [
       "{'a': 51548, 'b': 38040, 'c': 29716, 'd': 14762}"
      ]
     },
     "metadata": {},
     "output_type": "display_data"
    }
   ],
   "source": [
    "total_click_by_campaign = {'a': 0, 'b': 0, 'c': 0, 'd': 0}\n",
    "total_cost_by_campaign = {'a': 0, 'b': 0, 'c': 0, 'd': 0}\n",
    "for i in range(1, 6):\n",
    "    click_dict = df[f\"click_{i}\"].value_counts().to_dict()\n",
    "    total_click_by_campaign['a'] += click_dict.get('a', 0)\n",
    "    total_click_by_campaign['b'] += click_dict.get('b', 0)\n",
    "    total_click_by_campaign['c'] += click_dict.get('c', 0)\n",
    "    total_click_by_campaign['d'] += click_dict.get('d', 0)\n",
    "\n",
    "for campaign, click in total_click_by_campaign.items():\n",
    "    total_cost_by_campaign[campaign] = click*cost_per_click[campaign]\n",
    "print(\"Total Click by Campaign\")\n",
    "display(total_click_by_campaign)\n",
    "print(\"Total Cost by Campaign\")\n",
    "display(total_cost_by_campaign)\n"
   ]
  },
  {
   "cell_type": "markdown",
   "id": "81e49333",
   "metadata": {},
   "source": [
    "# Return on Investment by each Campaign"
   ]
  },
  {
   "cell_type": "code",
   "execution_count": 6,
   "id": "34b24f20",
   "metadata": {},
   "outputs": [
    {
     "name": "stdout",
     "output_type": "stream",
     "text": [
      "Return on Investment by each campaign:\n",
      "{'a': '-58.2%', 'b': '-44.2%', 'c': '-24.4%', 'd': '53.7%'}\n"
     ]
    }
   ],
   "source": [
    "roi = calculate_roi(attribution_revenue, total_cost_by_campaign)\n",
    "print(\"Return on Investment by each campaign:\") \n",
    "pprint({k: f\"{round(100*v, 1)}%\" for k,v in roi.items()})"
   ]
  },
  {
   "cell_type": "markdown",
   "id": "82b5482c",
   "metadata": {},
   "source": [
    "# Budget Allocation Optimization with Linear Programming"
   ]
  },
  {
   "cell_type": "code",
   "execution_count": 7,
   "id": "87108621",
   "metadata": {},
   "outputs": [
    {
     "name": "stdout",
     "output_type": "stream",
     "text": [
      "Estimated Budget Allocation by each campaign:\n",
      "{'a': '384497', 'b': '283741', 'c': '221652', 'd': '110110'}\n",
      "{'a': '38%', 'b': '28%', 'c': '22%', 'd': '11%'}\n"
     ]
    }
   ],
   "source": [
    "# Coefficients for the objective function (negative because linprog does minimization)\n",
    "c = [-roi[campaign] for campaign in total_cost_by_campaign.keys()]\n",
    "\n",
    "# total removal effects \n",
    "re_sum = sum(removal_effects.values())\n",
    "\n",
    "# Shorten the name of removal effects for convenience in writing matrix\n",
    "re = removal_effects\n",
    "\n",
    "# The equality constraints, assuming ROI of each campaign is constant:\n",
    "# 1. Total budget = 1e6\n",
    "# 2. Take into account removal effects\n",
    "A_eq = [\n",
    "    [(re['a']/re_sum - 1)*(roi['a']+1), re['a']*(roi['b'] + 1)/re_sum, re['a']*(roi['c'] + 1)/re_sum, re['a']*(roi['d'] + 1)/re_sum],\n",
    "    [re['b']*(roi['a'] + 1)/re_sum, (re['b']/re_sum - 1)*(roi['b']+1), re['b']*(roi['c'] + 1)/re_sum, re['b']*(roi['d'] + 1)/re_sum],\n",
    "    [re['c']*(roi['a'] + 1)/re_sum, re['c']*(roi['b'] + 1)/re_sum, (re['c']/re_sum - 1)*(roi['c']+1), re['c']*(roi['d'] + 1)/re_sum],\n",
    "    [re['d']*(roi['a'] + 1)/re_sum, re['d']*(roi['b'] + 1)/re_sum, re['d']*(roi['c'] + 1)/re_sum, (re['d']/re_sum - 1)*(roi['d']+1)],\n",
    "    [1, 1, 1, 1]\n",
    "]\n",
    "b_eq = [[0], [0], [0], [0], [1e6]]\n",
    "\n",
    "budget=1e6\n",
    "\n",
    "# Boundary of variables x should be non-pos\n",
    "x_bounds = [(0, budget),\n",
    "            (0, budget), \n",
    "            (0, budget),\n",
    "            (0, budget)]\n",
    "\n",
    "# Solve the linear programming problem\n",
    "res = linprog(c, A_eq=A_eq, b_eq=b_eq, bounds=x_bounds)\n",
    "\n",
    "\n",
    "# Extract the optimal budget allocation\n",
    "budget_allocation = dict(zip(total_cost_by_campaign.keys(), res.x))\n",
    "\n",
    "# Display the budget allocation\n",
    "print(\"Estimated Budget Allocation by each campaign:\")\n",
    "pprint({k: f\"{round(v)}\" for k,v in budget_allocation.items()})\n",
    "pprint({k: f\"{round(100*v/budget)}%\" for k,v in budget_allocation.items()})"
   ]
  },
  {
   "cell_type": "code",
   "execution_count": null,
   "id": "1176e7b9",
   "metadata": {},
   "outputs": [],
   "source": []
  }
 ],
 "metadata": {
  "kernelspec": {
   "display_name": "Python 3",
   "language": "python",
   "name": "python3"
  },
  "language_info": {
   "codemirror_mode": {
    "name": "ipython",
    "version": 3
   },
   "file_extension": ".py",
   "mimetype": "text/x-python",
   "name": "python",
   "nbconvert_exporter": "python",
   "pygments_lexer": "ipython3",
   "version": "3.10.4"
  }
 },
 "nbformat": 4,
 "nbformat_minor": 5
}
