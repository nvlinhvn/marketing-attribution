{
 "cells": [
  {
   "cell_type": "markdown",
   "id": "f847b9da",
   "metadata": {},
   "source": [
    "## Overview\n",
    "The business has been investing in four different display advertising campaigns. You have been asked to evaluate how effective\n",
    "each advertising campaign is in generating sales. Please see below the explanation of the data and the business questions.\n",
    "\n",
    "The data on the left include information on 10000 consumers who clicked on at least one of the display ads from campaigns\n",
    "A, B, C, or D. Purchase is indicated by the \"Conversion\" variable (i.e., equals 1 if there is purchase and 0 otherwise). The \"Value\" column indicates the revenue in dollars earned from each purchase. The cost per click is $7, $5, $4, and $2 for campaign A, B, C, and D, respectively. The order of clicks is as indicated in the data.\n",
    "\n",
    "You are asked to build a statistical model (so not a rule based attribution model such as last click attribution) and answer:\n",
    "\n",
    "Questions\n",
    "1. Which campaign is the most successful in terms of unit sales contributed?\n",
    "\n",
    "2. What is the return on investment for each campaign?\n",
    "\n",
    "3. How would you optimize the spend of a given budget of $1 million across all four campaigns?"
   ]
  },
  {
   "cell_type": "markdown",
   "id": "0531b437",
   "metadata": {},
   "source": [
    "#### Assume the cost of campaign is only charged when there is a conversion\n",
    "#### The idea is to construct transition probability matrix between campaigns, to evaluate each campaign effect on conversion units"
   ]
  },
  {
   "cell_type": "code",
   "execution_count": 1,
   "id": "821a0741",
   "metadata": {},
   "outputs": [],
   "source": [
    "import pandas as pd\n",
    "import seaborn as sns\n",
    "import numpy as np\n",
    "import matplotlib.pyplot as plt\n",
    "\n",
    "from collections import defaultdict\n",
    "\n",
    "from pprint import pprint\n",
    "from hmmlearn import hmm\n",
    "import warnings\n",
    "warnings.filterwarnings('ignore')"
   ]
  },
  {
   "cell_type": "code",
   "execution_count": 2,
   "id": "e421065d",
   "metadata": {},
   "outputs": [
    {
     "data": {
      "text/html": [
       "<div>\n",
       "<style scoped>\n",
       "    .dataframe tbody tr th:only-of-type {\n",
       "        vertical-align: middle;\n",
       "    }\n",
       "\n",
       "    .dataframe tbody tr th {\n",
       "        vertical-align: top;\n",
       "    }\n",
       "\n",
       "    .dataframe thead th {\n",
       "        text-align: right;\n",
       "    }\n",
       "</style>\n",
       "<table border=\"1\" class=\"dataframe\">\n",
       "  <thead>\n",
       "    <tr style=\"text-align: right;\">\n",
       "      <th></th>\n",
       "      <th>user</th>\n",
       "      <th>click_1</th>\n",
       "      <th>click_2</th>\n",
       "      <th>click_3</th>\n",
       "      <th>click_4</th>\n",
       "      <th>click_5</th>\n",
       "      <th>conversion</th>\n",
       "      <th>value</th>\n",
       "    </tr>\n",
       "  </thead>\n",
       "  <tbody>\n",
       "    <tr>\n",
       "      <th>0</th>\n",
       "      <td>1</td>\n",
       "      <td>d</td>\n",
       "      <td>d</td>\n",
       "      <td>a</td>\n",
       "      <td>b</td>\n",
       "      <td>NaN</td>\n",
       "      <td>0</td>\n",
       "      <td>0</td>\n",
       "    </tr>\n",
       "    <tr>\n",
       "      <th>1</th>\n",
       "      <td>2</td>\n",
       "      <td>c</td>\n",
       "      <td>NaN</td>\n",
       "      <td>NaN</td>\n",
       "      <td>NaN</td>\n",
       "      <td>NaN</td>\n",
       "      <td>0</td>\n",
       "      <td>0</td>\n",
       "    </tr>\n",
       "    <tr>\n",
       "      <th>2</th>\n",
       "      <td>3</td>\n",
       "      <td>b</td>\n",
       "      <td>d</td>\n",
       "      <td>a</td>\n",
       "      <td>b</td>\n",
       "      <td>c</td>\n",
       "      <td>1</td>\n",
       "      <td>44</td>\n",
       "    </tr>\n",
       "    <tr>\n",
       "      <th>3</th>\n",
       "      <td>4</td>\n",
       "      <td>b</td>\n",
       "      <td>a</td>\n",
       "      <td>a</td>\n",
       "      <td>NaN</td>\n",
       "      <td>NaN</td>\n",
       "      <td>0</td>\n",
       "      <td>0</td>\n",
       "    </tr>\n",
       "    <tr>\n",
       "      <th>4</th>\n",
       "      <td>5</td>\n",
       "      <td>d</td>\n",
       "      <td>b</td>\n",
       "      <td>d</td>\n",
       "      <td>NaN</td>\n",
       "      <td>NaN</td>\n",
       "      <td>0</td>\n",
       "      <td>0</td>\n",
       "    </tr>\n",
       "  </tbody>\n",
       "</table>\n",
       "</div>"
      ],
      "text/plain": [
       "   user click_1 click_2 click_3 click_4 click_5  conversion  value\n",
       "0     1       d       d       a       b     NaN           0      0\n",
       "1     2       c     NaN     NaN     NaN     NaN           0      0\n",
       "2     3       b       d       a       b       c           1     44\n",
       "3     4       b       a       a     NaN     NaN           0      0\n",
       "4     5       d       b       d     NaN     NaN           0      0"
      ]
     },
     "metadata": {},
     "output_type": "display_data"
    }
   ],
   "source": [
    "df = pd.read_csv(\"./data/user_click.csv\")\n",
    "columns = [\"user\", \"click_1\", \"click_2\", \"click_3\", \"click_4\", \"click_5\", \"conversion\", \"value\"]\n",
    "df = df[columns]\n",
    "display(df.head(5))"
   ]
  },
  {
   "cell_type": "code",
   "execution_count": null,
   "id": "ce35d576",
   "metadata": {},
   "outputs": [],
   "source": [
    "# Step 1: Data Preprocessing\n",
    "data = df.copy()\n",
    "campaign_mapping = {'a': 0, 'b': 1, 'c': 2, 'd': 3}\n",
    "data.replace(campaign_mapping, inplace=True)\n",
    "data.fillna(-1, inplace=True)\n",
    "\n",
    "# Step 2: Define the HMM\n",
    "n_components = 2\n",
    "model = hmm.MultinomialHMM(n_components=n_components)\n",
    "\n",
    "# Step 3: Train the HMM\n",
    "X = data[['click_1', 'click_2', 'click_3', 'click_4', 'click_5']].values\n",
    "model.fit(X)\n",
    "\n",
    "# Step 4: Attribution Modeling\n",
    "def removal_effect(clickstream, campaign):\n",
    "    clickstream = clickstream.copy()\n",
    "    clickstream[clickstream == campaign] = -1\n",
    "    without_campaign = model.predict_proba(clickstream.reshape(1, -1))[0][-1]\n",
    "    with_campaign = model.predict_proba(clickstream.reshape(1, -1))[0][-1]\n",
    "    return with_campaign - without_campaign\n",
    "\n",
    "campaign_contributions = {campaign: 0 for campaign in campaign_mapping.values()}\n",
    "for _, row in data.iterrows():\n",
    "    clickstream = row[['click_1', 'click_2', 'click_3', 'click_4', 'click_5']].values\n",
    "    for campaign in campaign_mapping.values():\n",
    "        if campaign in clickstream:\n",
    "            campaign_contributions[campaign] += removal_effect(clickstream, campaign)\n",
    "\n",
    "# Step 5: ROI Calculation\n",
    "cost_per_click = {'a': 7, 'b': 5, 'c': 4, 'd': 2}\n",
    "campaign_costs = {campaign: data[f'click_{i+1}'].value_counts().get(campaign, 0) * cost_per_click[campaign_label]\n",
    "                  for i, (campaign_label, campaign) in enumerate(campaign_mapping.items())}\n",
    "campaign_revenues = {campaign: campaign_contributions[campaign] * data['Value'].sum() for campaign in campaign_mapping.values()}\n",
    "campaign_roi = {campaign: (revenue - cost) / cost for campaign, revenue, cost in zip(campaign_mapping.values(), campaign_revenues.values(), campaign_costs.values())}\n",
    "\n",
    "# Step 6: Budget Optimization\n",
    "budget = 1000000\n",
    "# Use an optimization algorithm (e.g., linear programming) to allocate the budget based on ROI and constraints\n",
    "# Implement the optimization algorithm here\n",
    "\n",
    "# Print the results\n",
    "print(\"Campaign Contributions:\")\n",
    "for campaign, contribution in campaign_contributions.items():\n",
    "    print(f\"Campaign {list(campaign_mapping.keys())[campaign]}: {contribution}\")\n",
    "\n",
    "print(\"\\nROI:\")\n",
    "for campaign, roi in campaign_roi.items():\n",
    "    print(f\"Campaign {list(campaign_mapping.keys())[campaign]}: {roi}\")\n",
    "\n",
    "print(\"\\nOptimized Budget Allocation:\")\n",
    "# Print the optimized budget allocation here"
   ]
  },
  {
   "cell_type": "code",
   "execution_count": null,
   "id": "732179df",
   "metadata": {},
   "outputs": [],
   "source": []
  },
  {
   "cell_type": "code",
   "execution_count": null,
   "id": "793d5a18",
   "metadata": {},
   "outputs": [],
   "source": []
  },
  {
   "cell_type": "code",
   "execution_count": null,
   "id": "7e4577c7",
   "metadata": {},
   "outputs": [],
   "source": []
  },
  {
   "cell_type": "code",
   "execution_count": 3,
   "id": "6d0dc9e3",
   "metadata": {},
   "outputs": [],
   "source": [
    "df[[\"click_1\", \"click_2\", \"click_3\", \"click_4\", \"click_5\"]] = df[[\"click_1\", \"click_2\", \"click_3\", \"click_4\", \"click_5\"]].fillna(\"NULL\")"
   ]
  },
  {
   "cell_type": "markdown",
   "id": "4f096c20",
   "metadata": {},
   "source": [
    "#### DEFINE STATES\n",
    "##### START, a, b, c, d, NULL, Conversion"
   ]
  },
  {
   "cell_type": "code",
   "execution_count": 4,
   "id": "33e91681",
   "metadata": {},
   "outputs": [],
   "source": [
    "#The cost per click is $7, $5, $4, and $2 for campaign A, B, C, and D, respectively. \n",
    "# The company pay for the cost per click\n",
    "# the profit = revenue \n",
    "# cpc_dict = {\"a\": 7, \"b\": 5, \"c\": 4, \"d\": 2}\n",
    "# df[\"cost\"] = 0\n",
    "# for i in range(1, 6):\n",
    "#     df[f\"click_{i}_cost\"] = df[f\"click_{i}\"].map(cpc_dict).fillna(0)\n",
    "#     df[\"cost\"] += df[f\"click_{i}_cost\"]\n",
    "# df[\"profit\"] = df[\"value\"] - df[\"cost\"]\n",
    "# df.profit[df.profit < 0] = 0\n",
    "df[\"path\"] = df[[\"click_1\", \"click_2\", \"click_3\", \"click_4\", \"click_5\"]].astype(str).agg(\" \".join, axis=1) #.str.split(\" \")"
   ]
  },
  {
   "cell_type": "code",
   "execution_count": 5,
   "id": "9ece4d1c",
   "metadata": {},
   "outputs": [],
   "source": [
    "df['path'] = np.where(df['conversion'] == 0,\n",
    "                      ['Start '] + df['path'] + [' NULL'],\n",
    "                      ['Start '] + df['path'] + [' Conversion'])\n",
    "df[\"path\"] = df[\"path\"].str.split(\" \")"
   ]
  },
  {
   "cell_type": "code",
   "execution_count": 6,
   "id": "7fc5f6c8",
   "metadata": {},
   "outputs": [
    {
     "data": {
      "text/html": [
       "<div>\n",
       "<style scoped>\n",
       "    .dataframe tbody tr th:only-of-type {\n",
       "        vertical-align: middle;\n",
       "    }\n",
       "\n",
       "    .dataframe tbody tr th {\n",
       "        vertical-align: top;\n",
       "    }\n",
       "\n",
       "    .dataframe thead th {\n",
       "        text-align: right;\n",
       "    }\n",
       "</style>\n",
       "<table border=\"1\" class=\"dataframe\">\n",
       "  <thead>\n",
       "    <tr style=\"text-align: right;\">\n",
       "      <th></th>\n",
       "      <th>user</th>\n",
       "      <th>click_1</th>\n",
       "      <th>click_2</th>\n",
       "      <th>click_3</th>\n",
       "      <th>click_4</th>\n",
       "      <th>click_5</th>\n",
       "      <th>conversion</th>\n",
       "      <th>value</th>\n",
       "      <th>path</th>\n",
       "    </tr>\n",
       "  </thead>\n",
       "  <tbody>\n",
       "    <tr>\n",
       "      <th>0</th>\n",
       "      <td>1</td>\n",
       "      <td>d</td>\n",
       "      <td>d</td>\n",
       "      <td>a</td>\n",
       "      <td>b</td>\n",
       "      <td>NULL</td>\n",
       "      <td>0</td>\n",
       "      <td>0</td>\n",
       "      <td>[Start, d, d, a, b, NULL, NULL]</td>\n",
       "    </tr>\n",
       "    <tr>\n",
       "      <th>1</th>\n",
       "      <td>2</td>\n",
       "      <td>c</td>\n",
       "      <td>NULL</td>\n",
       "      <td>NULL</td>\n",
       "      <td>NULL</td>\n",
       "      <td>NULL</td>\n",
       "      <td>0</td>\n",
       "      <td>0</td>\n",
       "      <td>[Start, c, NULL, NULL, NULL, NULL, NULL]</td>\n",
       "    </tr>\n",
       "    <tr>\n",
       "      <th>2</th>\n",
       "      <td>3</td>\n",
       "      <td>b</td>\n",
       "      <td>d</td>\n",
       "      <td>a</td>\n",
       "      <td>b</td>\n",
       "      <td>c</td>\n",
       "      <td>1</td>\n",
       "      <td>44</td>\n",
       "      <td>[Start, b, d, a, b, c, Conversion]</td>\n",
       "    </tr>\n",
       "    <tr>\n",
       "      <th>3</th>\n",
       "      <td>4</td>\n",
       "      <td>b</td>\n",
       "      <td>a</td>\n",
       "      <td>a</td>\n",
       "      <td>NULL</td>\n",
       "      <td>NULL</td>\n",
       "      <td>0</td>\n",
       "      <td>0</td>\n",
       "      <td>[Start, b, a, a, NULL, NULL, NULL]</td>\n",
       "    </tr>\n",
       "    <tr>\n",
       "      <th>4</th>\n",
       "      <td>5</td>\n",
       "      <td>d</td>\n",
       "      <td>b</td>\n",
       "      <td>d</td>\n",
       "      <td>NULL</td>\n",
       "      <td>NULL</td>\n",
       "      <td>0</td>\n",
       "      <td>0</td>\n",
       "      <td>[Start, d, b, d, NULL, NULL, NULL]</td>\n",
       "    </tr>\n",
       "  </tbody>\n",
       "</table>\n",
       "</div>"
      ],
      "text/plain": [
       "   user click_1 click_2 click_3 click_4 click_5  conversion  value  \\\n",
       "0     1       d       d       a       b    NULL           0      0   \n",
       "1     2       c    NULL    NULL    NULL    NULL           0      0   \n",
       "2     3       b       d       a       b       c           1     44   \n",
       "3     4       b       a       a    NULL    NULL           0      0   \n",
       "4     5       d       b       d    NULL    NULL           0      0   \n",
       "\n",
       "                                       path  \n",
       "0           [Start, d, d, a, b, NULL, NULL]  \n",
       "1  [Start, c, NULL, NULL, NULL, NULL, NULL]  \n",
       "2        [Start, b, d, a, b, c, Conversion]  \n",
       "3        [Start, b, a, a, NULL, NULL, NULL]  \n",
       "4        [Start, d, b, d, NULL, NULL, NULL]  "
      ]
     },
     "execution_count": 6,
     "metadata": {},
     "output_type": "execute_result"
    }
   ],
   "source": [
    "df.head(5)"
   ]
  },
  {
   "cell_type": "code",
   "execution_count": 7,
   "id": "3157a1cf",
   "metadata": {},
   "outputs": [],
   "source": [
    "list_of_paths = df['path']\n",
    "total_conversions = sum(path.count('Conversion') for path in df['path'].tolist())\n",
    "base_conversion_rate = total_conversions / len(list_of_paths)\n",
    "total_value = df[\"value\"].sum()\n",
    "base_revenue_rate = total_value / len(list_of_paths)\n",
    "# total_profit = df[\"profit\"].sum()\n",
    "# base_profit_rate = total_profit / len(list_of_paths)"
   ]
  },
  {
   "cell_type": "markdown",
   "id": "e29d7bad",
   "metadata": {},
   "source": [
    "#### BUILD TRANSITION STATES"
   ]
  },
  {
   "cell_type": "code",
   "execution_count": 8,
   "id": "b748a758",
   "metadata": {},
   "outputs": [],
   "source": [
    "def transition_states(list_of_paths):\n",
    "    list_of_unique_channels = set(x for element in list_of_paths for x in element)\n",
    "    #print(list_of_unique_channels)\n",
    "    transition_states = {x + '-->' + y: 0 for x in list_of_unique_channels for y in list_of_unique_channels}\n",
    "    #print(transition_states)\n",
    "    for possible_state in list_of_unique_channels:\n",
    "        if possible_state not in ['Conversion', 'NULL']:\n",
    "            for user_path in list_of_paths:\n",
    "                if possible_state in user_path:\n",
    "                    indices = [i for i, s in enumerate(user_path) if possible_state in s]\n",
    "                    for col in indices:\n",
    "                        #print(col)\n",
    "                        #print(user_path)\n",
    "                        #print(user_path[col])\n",
    "                        if col < len(user_path) - 1:\n",
    "                            transition_states[user_path[col] + '-->' + user_path[col + 1]] += 1\n",
    "\n",
    "    return transition_states"
   ]
  },
  {
   "cell_type": "code",
   "execution_count": 9,
   "id": "f3346a77",
   "metadata": {},
   "outputs": [],
   "source": [
    "trans_states = transition_states(list_of_paths)"
   ]
  },
  {
   "cell_type": "code",
   "execution_count": 10,
   "id": "9cb1153f",
   "metadata": {},
   "outputs": [
    {
     "data": {
      "text/plain": [
       "{'d-->d': 1223,\n",
       " 'd-->a': 1219,\n",
       " 'd-->c': 1212,\n",
       " 'd-->b': 1236,\n",
       " 'd-->Start': 0,\n",
       " 'd-->NULL': 2334,\n",
       " 'd-->Conversion': 157,\n",
       " 'a-->d': 1214,\n",
       " 'a-->a': 1226,\n",
       " 'a-->c': 1212,\n",
       " 'a-->b': 1286,\n",
       " 'a-->Start': 0,\n",
       " 'a-->NULL': 2243,\n",
       " 'a-->Conversion': 183,\n",
       " 'c-->d': 1228,\n",
       " 'c-->a': 1168,\n",
       " 'c-->c': 1256,\n",
       " 'c-->b': 1256,\n",
       " 'c-->Start': 0,\n",
       " 'c-->NULL': 2356,\n",
       " 'c-->Conversion': 165,\n",
       " 'b-->d': 1259,\n",
       " 'b-->a': 1258,\n",
       " 'b-->c': 1252,\n",
       " 'b-->b': 1277,\n",
       " 'b-->Start': 0,\n",
       " 'b-->NULL': 2370,\n",
       " 'b-->Conversion': 192,\n",
       " 'Start-->d': 3403,\n",
       " 'Start-->a': 4986,\n",
       " 'Start-->c': 3426,\n",
       " 'Start-->b': 3513,\n",
       " 'Start-->Start': 0,\n",
       " 'Start-->NULL': 0,\n",
       " 'Start-->Conversion': 0,\n",
       " 'NULL-->d': 0,\n",
       " 'NULL-->a': 0,\n",
       " 'NULL-->c': 0,\n",
       " 'NULL-->b': 0,\n",
       " 'NULL-->Start': 0,\n",
       " 'NULL-->NULL': 0,\n",
       " 'NULL-->Conversion': 0,\n",
       " 'Conversion-->d': 0,\n",
       " 'Conversion-->a': 0,\n",
       " 'Conversion-->c': 0,\n",
       " 'Conversion-->b': 0,\n",
       " 'Conversion-->Start': 0,\n",
       " 'Conversion-->NULL': 0,\n",
       " 'Conversion-->Conversion': 0}"
      ]
     },
     "execution_count": 10,
     "metadata": {},
     "output_type": "execute_result"
    }
   ],
   "source": [
    "trans_states"
   ]
  },
  {
   "cell_type": "markdown",
   "id": "2a18c946",
   "metadata": {},
   "source": [
    "#### FROM TRANSITION FREQUENCY, BUILD TRANSITION PROBABILITY MATRIX"
   ]
  },
  {
   "cell_type": "code",
   "execution_count": 11,
   "id": "9ee163f2",
   "metadata": {},
   "outputs": [],
   "source": [
    "def transition_probability(trans_dict):\n",
    "    list_of_unique_channels = set(x for element in list_of_paths for x in element)\n",
    "    trans_prob = defaultdict(dict)\n",
    "    for state in list_of_unique_channels:\n",
    "        if state not in ['Conversion', 'NULL']:\n",
    "            counter = 0\n",
    "            index = [i for i, s in enumerate(trans_dict) if state + '-->' in s]\n",
    "            for col in index:\n",
    "                if trans_dict[list(trans_dict)[col]] > 0:\n",
    "                    counter += trans_dict[list(trans_dict)[col]]\n",
    "            for col in index:\n",
    "                if trans_dict[list(trans_dict)[col]] > 0:\n",
    "                    state_prob = float((trans_dict[list(trans_dict)[col]])) / float(counter)\n",
    "                    trans_prob[list(trans_dict)[col]] = state_prob\n",
    "\n",
    "    return trans_prob"
   ]
  },
  {
   "cell_type": "code",
   "execution_count": 12,
   "id": "a2d6a559",
   "metadata": {},
   "outputs": [
    {
     "name": "stdout",
     "output_type": "stream",
     "text": [
      "defaultdict(<class 'dict'>,\n",
      "            {'Start-->a': 0.32528705636743216,\n",
      "             'Start-->b': 0.2291884133611691,\n",
      "             'Start-->c': 0.2235125260960334,\n",
      "             'Start-->d': 0.22201200417536535,\n",
      "             'a-->Conversion': 0.024850624660510592,\n",
      "             'a-->NULL': 0.30458989679521997,\n",
      "             'a-->a': 0.16648560564910375,\n",
      "             'a-->b': 0.1746333514394351,\n",
      "             'a-->c': 0.1645844649646931,\n",
      "             'a-->d': 0.1648560564910375,\n",
      "             'b-->Conversion': 0.025236593059936908,\n",
      "             'b-->NULL': 0.3115141955835962,\n",
      "             'b-->a': 0.16535226077812828,\n",
      "             'b-->b': 0.16784963196635122,\n",
      "             'b-->c': 0.16456361724500526,\n",
      "             'b-->d': 0.16548370136698212,\n",
      "             'c-->Conversion': 0.02221025710055189,\n",
      "             'c-->NULL': 0.3171355498721228,\n",
      "             'c-->a': 0.15722169874814915,\n",
      "             'c-->b': 0.1690671692017768,\n",
      "             'c-->c': 0.1690671692017768,\n",
      "             'c-->d': 0.16529815587562255,\n",
      "             'd-->Conversion': 0.0212708305107709,\n",
      "             'd-->NULL': 0.31621731472700176,\n",
      "             'd-->a': 0.1651537732014632,\n",
      "             'd-->b': 0.16745698414848936,\n",
      "             'd-->c': 0.164205392223276,\n",
      "             'd-->d': 0.1656957051889988})\n"
     ]
    }
   ],
   "source": [
    "state_probability = transition_probability(trans_states)\n",
    "pprint(state_probability)"
   ]
  },
  {
   "cell_type": "code",
   "execution_count": 13,
   "id": "c30876d1",
   "metadata": {},
   "outputs": [
    {
     "name": "stdout",
     "output_type": "stream",
     "text": [
      "Markov transition matrix\n"
     ]
    },
    {
     "data": {
      "text/html": [
       "<div>\n",
       "<style scoped>\n",
       "    .dataframe tbody tr th:only-of-type {\n",
       "        vertical-align: middle;\n",
       "    }\n",
       "\n",
       "    .dataframe tbody tr th {\n",
       "        vertical-align: top;\n",
       "    }\n",
       "\n",
       "    .dataframe thead th {\n",
       "        text-align: right;\n",
       "    }\n",
       "</style>\n",
       "<table border=\"1\" class=\"dataframe\">\n",
       "  <thead>\n",
       "    <tr style=\"text-align: right;\">\n",
       "      <th></th>\n",
       "      <th>d</th>\n",
       "      <th>a</th>\n",
       "      <th>c</th>\n",
       "      <th>b</th>\n",
       "      <th>Start</th>\n",
       "      <th>NULL</th>\n",
       "      <th>Conversion</th>\n",
       "    </tr>\n",
       "  </thead>\n",
       "  <tbody>\n",
       "    <tr>\n",
       "      <th>d</th>\n",
       "      <td>0.165696</td>\n",
       "      <td>0.165154</td>\n",
       "      <td>0.164205</td>\n",
       "      <td>0.167457</td>\n",
       "      <td>0.0</td>\n",
       "      <td>0.316217</td>\n",
       "      <td>0.021271</td>\n",
       "    </tr>\n",
       "    <tr>\n",
       "      <th>a</th>\n",
       "      <td>0.164856</td>\n",
       "      <td>0.166486</td>\n",
       "      <td>0.164584</td>\n",
       "      <td>0.174633</td>\n",
       "      <td>0.0</td>\n",
       "      <td>0.304590</td>\n",
       "      <td>0.024851</td>\n",
       "    </tr>\n",
       "    <tr>\n",
       "      <th>c</th>\n",
       "      <td>0.165298</td>\n",
       "      <td>0.157222</td>\n",
       "      <td>0.169067</td>\n",
       "      <td>0.169067</td>\n",
       "      <td>0.0</td>\n",
       "      <td>0.317136</td>\n",
       "      <td>0.022210</td>\n",
       "    </tr>\n",
       "    <tr>\n",
       "      <th>b</th>\n",
       "      <td>0.165484</td>\n",
       "      <td>0.165352</td>\n",
       "      <td>0.164564</td>\n",
       "      <td>0.167850</td>\n",
       "      <td>0.0</td>\n",
       "      <td>0.311514</td>\n",
       "      <td>0.025237</td>\n",
       "    </tr>\n",
       "    <tr>\n",
       "      <th>Start</th>\n",
       "      <td>0.222012</td>\n",
       "      <td>0.325287</td>\n",
       "      <td>0.223513</td>\n",
       "      <td>0.229188</td>\n",
       "      <td>0.0</td>\n",
       "      <td>0.000000</td>\n",
       "      <td>0.000000</td>\n",
       "    </tr>\n",
       "    <tr>\n",
       "      <th>NULL</th>\n",
       "      <td>0.000000</td>\n",
       "      <td>0.000000</td>\n",
       "      <td>0.000000</td>\n",
       "      <td>0.000000</td>\n",
       "      <td>0.0</td>\n",
       "      <td>0.000000</td>\n",
       "      <td>0.000000</td>\n",
       "    </tr>\n",
       "    <tr>\n",
       "      <th>Conversion</th>\n",
       "      <td>0.000000</td>\n",
       "      <td>0.000000</td>\n",
       "      <td>0.000000</td>\n",
       "      <td>0.000000</td>\n",
       "      <td>0.0</td>\n",
       "      <td>0.000000</td>\n",
       "      <td>0.000000</td>\n",
       "    </tr>\n",
       "  </tbody>\n",
       "</table>\n",
       "</div>"
      ],
      "text/plain": [
       "                   d         a         c         b  Start      NULL  \\\n",
       "d           0.165696  0.165154  0.164205  0.167457    0.0  0.316217   \n",
       "a           0.164856  0.166486  0.164584  0.174633    0.0  0.304590   \n",
       "c           0.165298  0.157222  0.169067  0.169067    0.0  0.317136   \n",
       "b           0.165484  0.165352  0.164564  0.167850    0.0  0.311514   \n",
       "Start       0.222012  0.325287  0.223513  0.229188    0.0  0.000000   \n",
       "NULL        0.000000  0.000000  0.000000  0.000000    0.0  0.000000   \n",
       "Conversion  0.000000  0.000000  0.000000  0.000000    0.0  0.000000   \n",
       "\n",
       "            Conversion  \n",
       "d             0.021271  \n",
       "a             0.024851  \n",
       "c             0.022210  \n",
       "b             0.025237  \n",
       "Start         0.000000  \n",
       "NULL          0.000000  \n",
       "Conversion    0.000000  "
      ]
     },
     "metadata": {},
     "output_type": "display_data"
    }
   ],
   "source": [
    "def construct_transition_matrix(list_of_paths, state_probability):\n",
    "    transition_matrix = pd.DataFrame()\n",
    "    list_of_unique_channels = set(x for element in list_of_paths for x in element)\n",
    "\n",
    "    for channel in list_of_unique_channels:\n",
    "        transition_matrix[channel] = 0.00\n",
    "        transition_matrix.loc[channel] = 0.00\n",
    "        transition_matrix.loc[channel][channel] = 1.0 if channel in ['Conversion', 'NULL'] else 0.0\n",
    "\n",
    "    for key, value in state_probability.items():\n",
    "        origin, destination = key.split('-->')\n",
    "        transition_matrix.at[origin, destination] = value\n",
    "\n",
    "    return transition_matrix\n",
    "\n",
    "transition_matrix = construct_transition_matrix(list_of_paths, state_probability)\n",
    "print(\"Markov transition matrix\")\n",
    "display(transition_matrix)"
   ]
  },
  {
   "cell_type": "markdown",
   "id": "3783502b",
   "metadata": {},
   "source": [
    "#### HAVING TRANSITION MATRIX, CALCULATE REMOVAL EFFECTS OF EACH CAMPAIGN"
   ]
  },
  {
   "cell_type": "code",
   "execution_count": 14,
   "id": "1ac9b2b7",
   "metadata": {},
   "outputs": [],
   "source": [
    "def removal_effects(df, conversion_rate):\n",
    "    removal_effects_dict = {}\n",
    "    channels = [channel for channel in df.columns if channel not in ['Start',\n",
    "                                                                     'NULL',\n",
    "                                                                     'Conversion']]\n",
    "    for channel in channels:\n",
    "        removal_df = df.drop(channel, axis=1).drop(channel, axis=0)\n",
    "        for column in removal_df.columns:\n",
    "            row_sum = np.sum(list(removal_df.loc[column]))\n",
    "            null_pct = float(1) - row_sum\n",
    "            if null_pct != 0:\n",
    "                removal_df.loc[column]['NULL'] = null_pct\n",
    "            removal_df.loc['NULL']['NULL'] = 1.0\n",
    "\n",
    "        removal_to_conv = removal_df[\n",
    "            ['NULL', 'Conversion']].drop(['NULL', 'Conversion'], axis=0)\n",
    "        removal_to_non_conv = removal_df.drop(\n",
    "            ['NULL', 'Conversion'], axis=1).drop(['NULL', 'Conversion'], axis=0)\n",
    "\n",
    "        removal_inv_diff = np.linalg.inv(\n",
    "            np.identity(\n",
    "                len(removal_to_non_conv.columns)) - np.asarray(removal_to_non_conv))\n",
    "        removal_dot_prod = np.dot(removal_inv_diff, np.asarray(removal_to_conv))\n",
    "        removal_cvr = pd.DataFrame(removal_dot_prod,\n",
    "                                   index=removal_to_conv.index)[[1]].loc['Start'].values[0]\n",
    "        removal_effect = 1 - removal_cvr / conversion_rate\n",
    "        removal_effects_dict[channel] = removal_effect\n",
    "\n",
    "    return {k: v for k, v in sorted(removal_effects_dict.items())} \n",
    "\n",
    "campaign_removal_effect = removal_effects(transition_matrix, base_conversion_rate)"
   ]
  },
  {
   "cell_type": "code",
   "execution_count": 15,
   "id": "b04fc190",
   "metadata": {},
   "outputs": [],
   "source": [
    "def allocator(removal_effects, unit):\n",
    "    sum_effect = sum(list(removal_effects.values()))    \n",
    "    allocation_result = {k: (v / sum_effect) * unit for k, v in sorted(removal_effects.items())}    \n",
    "    return allocation_result\n",
    "\n",
    "conversion_unit_attributions = allocator(campaign_removal_effect, 1)"
   ]
  },
  {
   "cell_type": "markdown",
   "id": "5ebe11f7",
   "metadata": {},
   "source": [
    "#### RESULT OF CONVERSTION ATTRIBUTION"
   ]
  },
  {
   "cell_type": "code",
   "execution_count": 16,
   "id": "281f434c",
   "metadata": {},
   "outputs": [
    {
     "name": "stdout",
     "output_type": "stream",
     "text": [
      "removal_effects_dict\n",
      "{'a': 0.8597100706463602, 'b': 0.8414695477652324, 'c': 0.8312865403541212, 'd': 0.8293959429065695}\n",
      "Conversion Unit Attribution\n",
      "{'a': 0.2557243707940063, 'b': 0.25029865066347073, 'c': 0.24726967234635122, 'd': 0.24670730619617173}\n",
      "revenue attributions\n",
      "{'a': 22486.86682140015, 'b': 22009.761547441634, 'c': 21743.411368104047, 'd': 21693.960263054167}\n"
     ]
    }
   ],
   "source": [
    "removal_effects_dict = removal_effects(transition_matrix, base_conversion_rate)\n",
    "revenue_attributions = allocator(removal_effects_dict, total_value)\n",
    "print(\"removal_effects_dict\")\n",
    "print(removal_effects_dict)\n",
    "print(\"Conversion Unit Attribution\")\n",
    "print(conversion_unit_attributions)\n",
    "print(\"revenue attributions\")\n",
    "print(revenue_attributions)"
   ]
  },
  {
   "cell_type": "markdown",
   "id": "49a1bcb8",
   "metadata": {},
   "source": [
    "#### Cost per campaign"
   ]
  },
  {
   "cell_type": "code",
   "execution_count": 17,
   "id": "3f13b5b2",
   "metadata": {},
   "outputs": [
    {
     "name": "stdout",
     "output_type": "stream",
     "text": [
      "{'a': 7364, 'b': 7608, 'c': 7429, 'd': 7381}\n"
     ]
    }
   ],
   "source": [
    "total_click_by_campaign = {'a': 0, 'b': 0, 'c': 0, 'd': 0}\n",
    "for i in range(1, 6):\n",
    "    click_dict = df[f\"click_{i}\"].value_counts().to_dict()\n",
    "    total_click_by_campaign['a'] += click_dict['a']\n",
    "    total_click_by_campaign['b'] += click_dict['b']\n",
    "    total_click_by_campaign['c'] += click_dict['c']\n",
    "    total_click_by_campaign['d'] += click_dict['d']\n",
    "print(total_click_by_campaign)"
   ]
  },
  {
   "cell_type": "code",
   "execution_count": 18,
   "id": "bb13cff2",
   "metadata": {},
   "outputs": [
    {
     "name": "stdout",
     "output_type": "stream",
     "text": [
      "Campaign Cost\n",
      "{'a': 51548, 'b': 38040, 'c': 29716, 'd': 14762}\n"
     ]
    }
   ],
   "source": [
    "cpc = {'a': 7, 'b': 5, 'c': 4, 'd': 2}\n",
    "cost={}\n",
    "for campaign in ['a', 'b', 'c', 'd']:\n",
    "    cost[campaign] = cpc[campaign]*total_click_by_campaign[campaign]\n",
    "print('Campaign Cost')\n",
    "print(cost)"
   ]
  },
  {
   "cell_type": "markdown",
   "id": "f8adeb1f",
   "metadata": {},
   "source": [
    "### ROI per campaign"
   ]
  },
  {
   "cell_type": "code",
   "execution_count": 19,
   "id": "45b6d409",
   "metadata": {},
   "outputs": [
    {
     "name": "stdout",
     "output_type": "stream",
     "text": [
      "{'a': -0.5637683940909415, 'b': -0.4214047963343419, 'c': -0.2682927928353733, 'd': 0.4695813753593122}\n"
     ]
    }
   ],
   "source": [
    "roi_attributions = {}\n",
    "for k, v in revenue_attributions.items():\n",
    "    roi_attributions[k] = (v - cost[k])/cost[k]\n",
    "print(roi_attributions)"
   ]
  },
  {
   "cell_type": "markdown",
   "id": "5ec064e4",
   "metadata": {},
   "source": [
    "#### Budget Allocation"
   ]
  },
  {
   "cell_type": "code",
   "execution_count": 20,
   "id": "7efca2ad",
   "metadata": {},
   "outputs": [],
   "source": [
    "budget = 1e6\n",
    "budget_attributions = allocator(removal_effects_dict, budget)"
   ]
  },
  {
   "cell_type": "code",
   "execution_count": 21,
   "id": "1793459f",
   "metadata": {},
   "outputs": [
    {
     "name": "stdout",
     "output_type": "stream",
     "text": [
      "{'a': 255724.37079400627, 'b': 250298.65066347073, 'c': 247269.67234635123, 'd': 246707.30619617173}\n"
     ]
    }
   ],
   "source": [
    "print(budget_attributions)"
   ]
  },
  {
   "cell_type": "markdown",
   "id": "f5488078",
   "metadata": {},
   "source": [
    "### CONCLUSIONS\n",
    "- Campaign a is the highest contributor of unit sales\n",
    "- RoI of each campaign:\n",
    "   - a ~ 7016 (31.2%)\n",
    "   - b ~ 11949 (54.3%)\n",
    "   - c ~ 13827 (63.6%)\n",
    "   - d ~ 18151 (83.7%)\n",
    "- For budget allocation, the distribution: a / b / c / d = 25.6 / 25 / 24.7 / 24.7 (in %)"
   ]
  }
 ],
 "metadata": {
  "kernelspec": {
   "display_name": "Python 3",
   "language": "python",
   "name": "python3"
  },
  "language_info": {
   "codemirror_mode": {
    "name": "ipython",
    "version": 3
   },
   "file_extension": ".py",
   "mimetype": "text/x-python",
   "name": "python",
   "nbconvert_exporter": "python",
   "pygments_lexer": "ipython3",
   "version": "3.10.4"
  }
 },
 "nbformat": 4,
 "nbformat_minor": 5
}
